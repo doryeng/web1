{
  "nbformat": 4,
  "nbformat_minor": 0,
  "metadata": {
    "colab": {
      "name": "Stock Predict_LSTM n RNN_Amazon.ipynb",
      "provenance": [],
      "collapsed_sections": [],
      "authorship_tag": "ABX9TyNoDLL2xVlNnnWQYFyFvY98",
      "include_colab_link": true
    },
    "kernelspec": {
      "name": "python3",
      "display_name": "Python 3"
    }
  },
  "cells": [
    {
      "cell_type": "markdown",
      "metadata": {
        "id": "view-in-github",
        "colab_type": "text"
      },
      "source": [
        "<a href=\"https://colab.research.google.com/github/doryeng/web1/blob/master/Stock_Predict_LSTM_n_RNN_Amazon.ipynb\" target=\"_parent\"><img src=\"https://colab.research.google.com/assets/colab-badge.svg\" alt=\"Open In Colab\"/></a>"
      ]
    },
    {
      "cell_type": "markdown",
      "metadata": {
        "id": "QL2HWgr5v0qZ",
        "colab_type": "text"
      },
      "source": [
        "## LSTM RNN을 이용하여 아마존 주가 예측하기\n",
        "Source : https://m.blog.naver.com/wideeyed/221160038616"
      ]
    },
    {
      "cell_type": "code",
      "metadata": {
        "id": "eKNYBXJJuXMM",
        "colab_type": "code",
        "colab": {}
      },
      "source": [
        "import tensorflow as tf\n",
        "import numpy as np\n",
        "import pandas as pd\n",
        "import datetime\n",
        "import matplotlib.pyplot as plt"
      ],
      "execution_count": 1,
      "outputs": []
    },
    {
      "cell_type": "code",
      "metadata": {
        "id": "6BJD2XXIuZtM",
        "colab_type": "code",
        "colab": {}
      },
      "source": [
        "# 랜덤에 의해 똑같은 결과를 재현하도록 시드 설정\n",
        "# 하이퍼파라미터를 튜닝하기 위한 용도(흔들리면 무엇때문에 좋아졌는지 알기 어려움)\n",
        "\n",
        "tf.random.set_seed(777)   # tf.set_random_seed(777); 소스코드 오류로 수정함"
      ],
      "execution_count": 3,
      "outputs": []
    },
    {
      "cell_type": "code",
      "metadata": {
        "id": "kG8TXS05uhJI",
        "colab_type": "code",
        "colab": {}
      },
      "source": [
        "# Standardization\n",
        "def data_standardization(x):\n",
        "    x_np = np.asarray(x)\n",
        "    return (x_np - x_np.mean()) / x_np.std()\n",
        " \n",
        "# 너무 작거나 너무 큰 값이 학습을 방해하는 것을 방지하고자 정규화한다\n",
        "# x가 양수라는 가정하에 최소값과 최대값을 이용하여 0~1사이의 값으로 변환\n",
        "# Min-Max scaling\n",
        "def min_max_scaling(x):\n",
        "    x_np = np.asarray(x)\n",
        "    return (x_np - x_np.min()) / (x_np.max() - x_np.min() + 1e-7) # 1e-7은 0으로 나누는 오류 예방차원\n",
        " \n",
        "# 정규화된 값을 원래의 값으로 되돌린다\n",
        "# 정규화하기 이전의 org_x값과 되돌리고 싶은 x를 입력하면 역정규화된 값을 리턴한다\n",
        "def reverse_min_max_scaling(org_x, x):\n",
        "    org_x_np = np.asarray(org_x)\n",
        "    x_np = np.asarray(x)\n",
        "    return (x_np * (org_x_np.max() - org_x_np.min() + 1e-7)) + org_x_np.min()"
      ],
      "execution_count": 4,
      "outputs": []
    },
    {
      "cell_type": "code",
      "metadata": {
        "id": "t2qRIrLruiSZ",
        "colab_type": "code",
        "colab": {}
      },
      "source": [
        "# 하이퍼파라미터\n",
        "input_data_column_cnt = 6  # 입력데이터의 컬럼 개수(Variable 개수)\n",
        "output_data_column_cnt = 1 # 결과데이터의 컬럼 개수\n",
        " \n",
        "seq_length = 28            # 1개 시퀀스의 길이(시계열데이터 입력 개수)\n",
        "rnn_cell_hidden_dim = 20   # 각 셀의 (hidden)출력 크기\n",
        "forget_bias = 1.0          # 망각편향(기본값 1.0)\n",
        "num_stacked_layers = 1     # stacked LSTM layers 개수\n",
        "keep_prob = 1.0            # dropout할 때 keep할 비율\n",
        " \n",
        "epoch_num = 1000           # 에폭 횟수(학습용전체데이터를 몇 회 반복해서 학습할 것인가 입력)\n",
        "learning_rate = 0.01       # 학습률"
      ],
      "execution_count": 5,
      "outputs": []
    },
    {
      "cell_type": "code",
      "metadata": {
        "id": "dr0cZ1w1umpZ",
        "colab_type": "code",
        "colab": {
          "resources": {
            "http://localhost:8080/nbextensions/google.colab/files.js": {
              "data": "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",
              "ok": true,
              "headers": [
                [
                  "content-type",
                  "application/javascript"
                ]
              ],
              "status": 200,
              "status_text": ""
            }
          },
          "base_uri": "https://localhost:8080/",
          "height": 375
        },
        "outputId": "dc8a41ca-f462-4e51-c7e9-981422e6d97f"
      },
      "source": [
        "# 데이터를 로딩한다.\n",
        "# 파일 업로드 기능 실행 \n",
        "from google.colab import files\n",
        "uploaded = files.upload() \n",
        "\n",
        "stock_file_name = 'AMZN.csv' # 아마존 주가데이터 파일\n",
        "encoding = 'euc-kr' # 문자 인코딩\n",
        "names = ['Date','Open','High','Low','Close','Adj Close','Volume']\n",
        "raw_dataframe = pd.read_csv(stock_file_name, names=names, encoding=encoding) #판다스이용 csv파일 로딩\n",
        "raw_dataframe.info() # 데이터 정보 출력\n",
        " \n",
        "# raw_dataframe.drop('Date', axis=1, inplace=True) # 시간열을 제거하고 dataframe 재생성하지 않기\n",
        "del raw_dataframe['Date'] # 위 줄과 같은 효과\n",
        " \n",
        "stock_info = raw_dataframe.values[1:].astype(np.float) # 금액&거래량 문자열을 부동소수점형으로 변환한다\n",
        "print(\"stock_info.shape: \", stock_info.shape)\n",
        "print(\"stock_info[0]: \", stock_info[0])\n",
        " "
      ],
      "execution_count": 7,
      "outputs": [
        {
          "output_type": "display_data",
          "data": {
            "text/html": [
              "\n",
              "     <input type=\"file\" id=\"files-6733345b-9dc0-4a13-ac38-326dccda9abb\" name=\"files[]\" multiple disabled\n",
              "        style=\"border:none\" />\n",
              "     <output id=\"result-6733345b-9dc0-4a13-ac38-326dccda9abb\">\n",
              "      Upload widget is only available when the cell has been executed in the\n",
              "      current browser session. Please rerun this cell to enable.\n",
              "      </output>\n",
              "      <script src=\"/nbextensions/google.colab/files.js\"></script> "
            ],
            "text/plain": [
              "<IPython.core.display.HTML object>"
            ]
          },
          "metadata": {
            "tags": []
          }
        },
        {
          "output_type": "stream",
          "text": [
            "Saving AMZN.csv to AMZN.csv\n",
            "<class 'pandas.core.frame.DataFrame'>\n",
            "RangeIndex: 5179 entries, 0 to 5178\n",
            "Data columns (total 7 columns):\n",
            " #   Column     Non-Null Count  Dtype \n",
            "---  ------     --------------  ----- \n",
            " 0   Date       5179 non-null   object\n",
            " 1   Open       5179 non-null   object\n",
            " 2   High       5179 non-null   object\n",
            " 3   Low        5179 non-null   object\n",
            " 4   Close      5179 non-null   object\n",
            " 5   Adj Close  5179 non-null   object\n",
            " 6   Volume     5179 non-null   object\n",
            "dtypes: object(7)\n",
            "memory usage: 283.4+ KB\n",
            "stock_info.shape:  (5178, 6)\n",
            "stock_info[0]:  [2.437500e+00 2.500000e+00 1.927083e+00 1.958333e+00 1.958333e+00\n",
            " 7.215600e+07]\n"
          ],
          "name": "stdout"
        }
      ]
    },
    {
      "cell_type": "code",
      "metadata": {
        "id": "7QII5XDRuqUV",
        "colab_type": "code",
        "colab": {
          "base_uri": "https://localhost:8080/",
          "height": 87
        },
        "outputId": "7b87fa4f-b336-4cca-aa8d-38d2a513f6ef"
      },
      "source": [
        "# 데이터 전처리\n",
        "# 가격과 거래량 수치의 차이가 많아나서 각각 별도로 정규화한다\n",
        " \n",
        "# 가격형태 데이터들을 정규화한다\n",
        "# ['Open','High','Low','Close','Adj Close','Volume']에서 'Adj Close'까지 취함\n",
        "# 곧, 마지막 열 Volume를 제외한 모든 열\n",
        "price = stock_info[:,:-1]\n",
        "norm_price = min_max_scaling(price) # 가격형태 데이터 정규화 처리\n",
        "print(\"price.shape: \", price.shape)\n",
        "print(\"price[0]: \", price[0])\n",
        "print(\"norm_price[0]: \", norm_price[0])\n",
        "print(\"=\"*100) # 화면상 구분용"
      ],
      "execution_count": 8,
      "outputs": [
        {
          "output_type": "stream",
          "text": [
            "price.shape:  (5178, 5)\n",
            "price[0]:  [2.4375   2.5      1.927083 1.958333 1.958333]\n",
            "norm_price[0]:  [0.00092814 0.00097971 0.00050704 0.00053282 0.00053282]\n",
            "====================================================================================================\n"
          ],
          "name": "stdout"
        }
      ]
    },
    {
      "cell_type": "code",
      "metadata": {
        "id": "sZZig7MDuw4u",
        "colab_type": "code",
        "colab": {
          "base_uri": "https://localhost:8080/",
          "height": 1000
        },
        "outputId": "cfc7f4e8-f6e4-420f-e022-ea9cc77c29c8"
      },
      "source": [
        "# 거래량형태 데이터를 정규화한다\n",
        "# ['Open','High','Low','Close','Adj Close','Volume']에서 마지막 'Volume'만 취함\n",
        "# [:,-1]이 아닌 [:,-1:]이므로 주의하자! 스칼라가아닌 벡터값 산출해야만 쉽게 병합 가능\n",
        "volume = stock_info[:,-1:]\n",
        "norm_volume = min_max_scaling(volume) # 거래량형태 데이터 정규화 처리\n",
        "print(\"volume.shape: \", volume.shape)\n",
        "print(\"volume[0]: \", volume[0])\n",
        "print(\"norm_volume[0]: \", norm_volume[0])\n",
        "print(\"=\"*100) # 화면상 구분용\n",
        " \n",
        "# 행은 그대로 두고 열을 우측에 붙여 합친다\n",
        "x = np.concatenate((norm_price, norm_volume), axis=1) # axis=1, 세로로 합친다\n",
        "print(\"x.shape: \", x.shape)\n",
        "print(\"x[0]: \", x[0])    # x의 첫 값\n",
        "print(\"x[-1]: \", x[-1])  # x의 마지막 값\n",
        "print(\"=\"*100) # 화면상 구분용\n",
        " \n",
        "y = x[:, [-2]] # 타켓은 주식 종가이다\n",
        "print(\"y[0]: \",y[0])     # y의 첫 값\n",
        "print(\"y[-1]: \",y[-1])   # y의 마지막 값\n",
        " \n",
        " \n",
        "dataX = [] # 입력으로 사용될 Sequence Data\n",
        "dataY = [] # 출력(타켓)으로 사용\n",
        " \n",
        "for i in range(0, len(y) - seq_length):\n",
        "    _x = x[i : i+seq_length]\n",
        "    _y = y[i + seq_length] # 다음 나타날 주가(정답)\n",
        "    if i is 0:\n",
        "        print(_x, \"->\", _y) # 첫번째 행만 출력해 봄\n",
        "    dataX.append(_x) # dataX 리스트에 추가\n",
        "    dataY.append(_y) # dataY 리스트에 추가"
      ],
      "execution_count": 9,
      "outputs": [
        {
          "output_type": "stream",
          "text": [
            "volume.shape:  (5178, 1)\n",
            "volume[0]:  [72156000.]\n",
            "norm_volume[0]:  [0.69017161]\n",
            "====================================================================================================\n",
            "x.shape:  (5178, 6)\n",
            "x[0]:  [9.28143131e-04 9.79706638e-04 5.07040880e-04 5.32822633e-04\n",
            " 5.32822633e-04 6.90171607e-01]\n",
            "x[-1]:  [0.96451605 0.96645482 0.95354329 0.95758589 0.95758589 0.02142033]\n",
            "====================================================================================================\n",
            "y[0]:  [0.00053282]\n",
            "y[-1]:  [0.95758589]\n",
            "[[9.28143131e-04 9.79706638e-04 5.07040880e-04 5.32822633e-04\n",
            "  5.32822633e-04 6.90171607e-01]\n",
            " [5.41416826e-04 5.50011019e-04 3.26568604e-04 3.43756990e-04\n",
            "  3.43756990e-04 1.36869475e-01]\n",
            " [3.69538744e-04 3.78132112e-04 2.57817536e-04 3.26568604e-04\n",
            "  3.26568604e-04 5.41168313e-02]\n",
            " [3.43756990e-04 3.60944551e-04 2.66411729e-04 2.66411729e-04\n",
            "  2.66411729e-04 4.79574739e-02]\n",
            " [2.66411729e-04 2.75005097e-04 5.15635073e-05 9.45328216e-05\n",
            "  9.45328216e-05 1.76864852e-01]\n",
            " [1.03127015e-04 1.11721207e-04 0.00000000e+00 6.87510680e-05\n",
            "  6.87510680e-05 1.08719015e-01]\n",
            " [7.73452609e-05 1.71878083e-04 1.71875607e-05 1.54690522e-04\n",
            "  1.54690522e-04 1.48783729e-01]\n",
            " [1.63284715e-04 2.75005097e-04 1.20314575e-04 2.23441590e-04\n",
            "  2.23441590e-04 7.90662738e-02]\n",
            " [2.57817536e-04 2.66411729e-04 1.80472275e-04 1.80472275e-04\n",
            "  1.80472275e-04 3.93597966e-02]\n",
            " [1.89066468e-04 1.89066468e-04 1.37502961e-04 1.58987206e-04\n",
            "  1.58987206e-04 2.87513723e-02]\n",
            " [1.54690522e-04 1.63284715e-04 1.37502961e-04 1.54690522e-04\n",
            "  1.54690522e-04 2.02923673e-02]\n",
            " [1.63284715e-04 1.80472275e-04 1.54690522e-04 1.63284715e-04\n",
            "  1.63284715e-04 1.00537355e-03]\n",
            " [1.80472275e-04 1.80472275e-04 1.37502961e-04 1.37502961e-04\n",
            "  1.37502961e-04 6.70249032e-03]\n",
            " [1.37502961e-04 1.46096329e-04 6.87510680e-05 8.59394538e-05\n",
            "  8.59394538e-05 2.49725545e-02]\n",
            " [8.59394538e-05 1.89066468e-04 5.15635073e-05 1.89066468e-04\n",
            "  1.89066468e-04 4.99335529e-02]\n",
            " [1.67581399e-04 3.26568604e-04 1.63284715e-04 2.83599290e-04\n",
            "  2.83599290e-04 7.04917086e-02]\n",
            " [2.83599290e-04 3.26568604e-04 2.83599290e-04 3.09381044e-04\n",
            "  3.09381044e-04 1.79580517e-02]\n",
            " [3.26568604e-04 3.26568604e-04 1.80472275e-04 2.23441590e-04\n",
            "  2.23441590e-04 4.78765817e-02]\n",
            " [2.32035783e-04 2.40629976e-04 1.80472275e-04 1.89066468e-04\n",
            "  1.89066468e-04 6.74871439e-03]\n",
            " [2.23441590e-04 2.75005097e-04 1.97659836e-04 2.40629976e-04\n",
            "  2.40629976e-04 1.10244410e-02]\n",
            " [2.57817536e-04 2.57817536e-04 2.23441590e-04 2.23441590e-04\n",
            "  2.23441590e-04 1.98763506e-03]\n",
            " [2.40629976e-04 2.40629976e-04 2.06254029e-04 2.14848222e-04\n",
            "  2.14848222e-04 4.10238632e-03]\n",
            " [2.36332467e-04 2.36332467e-04 1.50393838e-04 1.58987206e-04\n",
            "  1.58987206e-04 4.06309586e-02]\n",
            " [1.71878083e-04 1.84768959e-04 1.54690522e-04 1.63284715e-04\n",
            "  1.63284715e-04 1.90443173e-02]\n",
            " [1.63284715e-04 1.80472275e-04 1.54690522e-04 1.63284715e-04\n",
            "  1.63284715e-04 4.96908765e-03]\n",
            " [1.80472275e-04 1.97659836e-04 1.54690522e-04 1.76175591e-04\n",
            "  1.76175591e-04 2.79308950e-02]\n",
            " [1.89066468e-04 1.89066468e-04 1.37502961e-04 1.54690522e-04\n",
            "  1.54690522e-04 5.39666031e-03]\n",
            " [1.58987206e-04 1.76175591e-04 1.37502961e-04 1.63284715e-04\n",
            "  1.63284715e-04 2.54232392e-03]] -> [0.00016328]\n"
          ],
          "name": "stdout"
        }
      ]
    },
    {
      "cell_type": "code",
      "metadata": {
        "id": "Mbv_beqXu2EJ",
        "colab_type": "code",
        "colab": {}
      },
      "source": [
        "# 학습용/테스트용 데이터 생성\n",
        "# 전체 80%를 학습용 데이터로 사용\n",
        "train_size = int(len(dataY) * 0.8)\n",
        "# 나머지(20%)를 테스트용 데이터로 사용\n",
        "test_size = len(dataY) - train_size"
      ],
      "execution_count": 11,
      "outputs": []
    },
    {
      "cell_type": "code",
      "metadata": {
        "id": "Z5GDTzc1u7gJ",
        "colab_type": "code",
        "colab": {}
      },
      "source": [
        "# 데이터를 잘라 학습용 데이터 생성\n",
        "trainX = np.array(dataX[0:train_size])\n",
        "trainY = np.array(dataY[0:train_size])"
      ],
      "execution_count": 12,
      "outputs": []
    },
    {
      "cell_type": "code",
      "metadata": {
        "id": "iXRAvuUjvAxl",
        "colab_type": "code",
        "colab": {}
      },
      "source": [
        "# 데이터를 잘라 테스트용 데이터 생성\n",
        "testX = np.array(dataX[train_size:len(dataX)])\n",
        "testY = np.array(dataY[train_size:len(dataY)])"
      ],
      "execution_count": 13,
      "outputs": []
    },
    {
      "cell_type": "code",
      "metadata": {
        "id": "zkprjkBDvA67",
        "colab_type": "code",
        "colab": {
          "base_uri": "https://localhost:8080/",
          "height": 125
        },
        "outputId": "2cf37ca4-12fb-495c-b75f-c037fa88fe99"
      },
      "source": [
        "import tensorflow.compat.v1 as tf   # TensorFlow, “'module' object has no attribute 'placeholder'”문제를 해결하기 위해\n",
        "tf.disable_v2_behavior()\n",
        "\n",
        "# 텐서플로우 플레이스홀더 생성\n",
        "# 입력 X, 출력 Y를 생성한다\n",
        "X = tf.placeholder(tf.float32, [None, seq_length, input_data_column_cnt])\n",
        "print(\"X: \", X)\n",
        "Y = tf.placeholder(tf.float32, [None, 1])\n",
        "print(\"Y: \", Y)"
      ],
      "execution_count": 15,
      "outputs": [
        {
          "output_type": "stream",
          "text": [
            "WARNING:tensorflow:From /usr/local/lib/python3.6/dist-packages/tensorflow/python/compat/v2_compat.py:96: disable_resource_variables (from tensorflow.python.ops.variable_scope) is deprecated and will be removed in a future version.\n",
            "Instructions for updating:\n",
            "non-resource variables are not supported in the long term\n",
            "X:  Tensor(\"Placeholder:0\", shape=(?, 28, 6), dtype=float32)\n",
            "Y:  Tensor(\"Placeholder_1:0\", shape=(?, 1), dtype=float32)\n"
          ],
          "name": "stdout"
        }
      ]
    },
    {
      "cell_type": "code",
      "metadata": {
        "id": "4i58boxyvHBH",
        "colab_type": "code",
        "colab": {
          "base_uri": "https://localhost:8080/",
          "height": 52
        },
        "outputId": "96c691e9-89fa-4dfb-97f1-52406689dc35"
      },
      "source": [
        "# 검증용 측정지표를 산출하기 위한 targets, predictions를 생성한다\n",
        "targets = tf.placeholder(tf.float32, [None, 1])\n",
        "print(\"targets: \", targets)\n",
        " \n",
        "predictions = tf.placeholder(tf.float32, [None, 1])\n",
        "print(\"predictions: \", predictions)"
      ],
      "execution_count": 16,
      "outputs": [
        {
          "output_type": "stream",
          "text": [
            "targets:  Tensor(\"Placeholder_2:0\", shape=(?, 1), dtype=float32)\n",
            "predictions:  Tensor(\"Placeholder_3:0\", shape=(?, 1), dtype=float32)\n"
          ],
          "name": "stdout"
        }
      ]
    },
    {
      "cell_type": "code",
      "metadata": {
        "id": "1yePjSM6uPQ1",
        "colab_type": "code",
        "colab": {
          "base_uri": "https://localhost:8080/",
          "height": 386
        },
        "outputId": "8f43c15f-3604-4b90-b4b8-fca8e47aefd8"
      },
      "source": [
        "# 모델(LSTM 네트워크) 생성\n",
        "def lstm_cell():\n",
        "    # LSTM셀을 생성\n",
        "    # num_units: 각 Cell 출력 크기\n",
        "    # forget_bias:  to the biases of the forget gate \n",
        "    #              (default: 1)  in order to reduce the scale of forgetting in the beginning of the training.\n",
        "    # state_is_tuple: True ==> accepted and returned states are 2-tuples of the c_state and m_state.\n",
        "    # state_is_tuple: False ==> they are concatenated along the column axis.\n",
        "    cell = tf.contrib.rnn.BasicLSTMCell(num_units=rnn_cell_hidden_dim, \n",
        "                                        forget_bias=forget_bias, state_is_tuple=True, activation=tf.nn.softsign)\n",
        "    if keep_prob < 1.0:\n",
        "        cell = tf.contrib.rnn.DropoutWrapper(cell, output_keep_prob=keep_prob)\n",
        "    return cell\n",
        " \n",
        "# num_stacked_layers개의 층으로 쌓인 Stacked RNNs 생성\n",
        "stackedRNNs = [lstm_cell() for _ in range(num_stacked_layers)]\n",
        "multi_cells = tf.contrib.rnn.MultiRNNCell(stackedRNNs, state_is_tuple=True) if num_stacked_layers > 1 else lstm_cell()\n",
        " \n",
        "# RNN Cell(여기서는 LSTM셀임)들을 연결\n",
        "hypothesis, _states = tf.nn.dynamic_rnn(multi_cells, X, dtype=tf.float32)\n",
        "print(\"hypothesis: \", hypothesis)\n",
        " \n",
        "# [:, -1]를 잘 살펴보자. LSTM RNN의 마지막 (hidden)출력만을 사용했다.\n",
        "# 과거 여러 거래일의 주가를 이용해서 다음날의 주가 1개를 예측하기때문에 MANY-TO-ONE형태이다\n",
        "hypothesis = tf.contrib.layers.fully_connected(hypothesis[:, -1], output_data_column_cnt, activation_fn=tf.identity)\n",
        " \n",
        " \n",
        "# 손실함수로 평균제곱오차를 사용한다\n",
        "loss = tf.reduce_sum(tf.square(hypothesis - Y))\n",
        "# 최적화함수로 AdamOptimizer를 사용한다\n",
        "optimizer = tf.train.AdamOptimizer(learning_rate)\n",
        "# optimizer = tf.train.RMSPropOptimizer(learning_rate) # LSTM과 궁합 별로임\n",
        " \n",
        "train = optimizer.minimize(loss)\n",
        " \n",
        "# RMSE(Root Mean Square Error)\n",
        "# 제곱오차의 평균을 구하고 다시 제곱근을 구하면 평균 오차가 나온다\n",
        "# rmse = tf.sqrt(tf.reduce_mean(tf.square(targets-predictions))) # 아래 코드와 같다\n",
        "rmse = tf.sqrt(tf.reduce_mean(tf.squared_difference(targets, predictions)))\n",
        " \n",
        " \n",
        "train_error_summary = [] # 학습용 데이터의 오류를 중간 중간 기록한다\n",
        "test_error_summary = []  # 테스트용 데이터의 오류를 중간 중간 기록한다\n",
        "test_predict = ''        # 테스트용데이터로 예측한 결과\n",
        " \n",
        "sess = tf.Session()\n",
        "sess.run(tf.global_variables_initializer())"
      ],
      "execution_count": 17,
      "outputs": [
        {
          "output_type": "error",
          "ename": "AttributeError",
          "evalue": "ignored",
          "traceback": [
            "\u001b[0;31m---------------------------------------------------------------------------\u001b[0m",
            "\u001b[0;31mAttributeError\u001b[0m                            Traceback (most recent call last)",
            "\u001b[0;32m<ipython-input-17-f2c1556e2bd3>\u001b[0m in \u001b[0;36m<module>\u001b[0;34m()\u001b[0m\n\u001b[1;32m     14\u001b[0m \u001b[0;34m\u001b[0m\u001b[0m\n\u001b[1;32m     15\u001b[0m \u001b[0;31m# num_stacked_layers개의 층으로 쌓인 Stacked RNNs 생성\u001b[0m\u001b[0;34m\u001b[0m\u001b[0;34m\u001b[0m\u001b[0;34m\u001b[0m\u001b[0m\n\u001b[0;32m---> 16\u001b[0;31m \u001b[0mstackedRNNs\u001b[0m \u001b[0;34m=\u001b[0m \u001b[0;34m[\u001b[0m\u001b[0mlstm_cell\u001b[0m\u001b[0;34m(\u001b[0m\u001b[0;34m)\u001b[0m \u001b[0;32mfor\u001b[0m \u001b[0m_\u001b[0m \u001b[0;32min\u001b[0m \u001b[0mrange\u001b[0m\u001b[0;34m(\u001b[0m\u001b[0mnum_stacked_layers\u001b[0m\u001b[0;34m)\u001b[0m\u001b[0;34m]\u001b[0m\u001b[0;34m\u001b[0m\u001b[0;34m\u001b[0m\u001b[0m\n\u001b[0m\u001b[1;32m     17\u001b[0m \u001b[0mmulti_cells\u001b[0m \u001b[0;34m=\u001b[0m \u001b[0mtf\u001b[0m\u001b[0;34m.\u001b[0m\u001b[0mcontrib\u001b[0m\u001b[0;34m.\u001b[0m\u001b[0mrnn\u001b[0m\u001b[0;34m.\u001b[0m\u001b[0mMultiRNNCell\u001b[0m\u001b[0;34m(\u001b[0m\u001b[0mstackedRNNs\u001b[0m\u001b[0;34m,\u001b[0m \u001b[0mstate_is_tuple\u001b[0m\u001b[0;34m=\u001b[0m\u001b[0;32mTrue\u001b[0m\u001b[0;34m)\u001b[0m \u001b[0;32mif\u001b[0m \u001b[0mnum_stacked_layers\u001b[0m \u001b[0;34m>\u001b[0m \u001b[0;36m1\u001b[0m \u001b[0;32melse\u001b[0m \u001b[0mlstm_cell\u001b[0m\u001b[0;34m(\u001b[0m\u001b[0;34m)\u001b[0m\u001b[0;34m\u001b[0m\u001b[0;34m\u001b[0m\u001b[0m\n\u001b[1;32m     18\u001b[0m \u001b[0;34m\u001b[0m\u001b[0m\n",
            "\u001b[0;32m<ipython-input-17-f2c1556e2bd3>\u001b[0m in \u001b[0;36m<listcomp>\u001b[0;34m(.0)\u001b[0m\n\u001b[1;32m     14\u001b[0m \u001b[0;34m\u001b[0m\u001b[0m\n\u001b[1;32m     15\u001b[0m \u001b[0;31m# num_stacked_layers개의 층으로 쌓인 Stacked RNNs 생성\u001b[0m\u001b[0;34m\u001b[0m\u001b[0;34m\u001b[0m\u001b[0;34m\u001b[0m\u001b[0m\n\u001b[0;32m---> 16\u001b[0;31m \u001b[0mstackedRNNs\u001b[0m \u001b[0;34m=\u001b[0m \u001b[0;34m[\u001b[0m\u001b[0mlstm_cell\u001b[0m\u001b[0;34m(\u001b[0m\u001b[0;34m)\u001b[0m \u001b[0;32mfor\u001b[0m \u001b[0m_\u001b[0m \u001b[0;32min\u001b[0m \u001b[0mrange\u001b[0m\u001b[0;34m(\u001b[0m\u001b[0mnum_stacked_layers\u001b[0m\u001b[0;34m)\u001b[0m\u001b[0;34m]\u001b[0m\u001b[0;34m\u001b[0m\u001b[0;34m\u001b[0m\u001b[0m\n\u001b[0m\u001b[1;32m     17\u001b[0m \u001b[0mmulti_cells\u001b[0m \u001b[0;34m=\u001b[0m \u001b[0mtf\u001b[0m\u001b[0;34m.\u001b[0m\u001b[0mcontrib\u001b[0m\u001b[0;34m.\u001b[0m\u001b[0mrnn\u001b[0m\u001b[0;34m.\u001b[0m\u001b[0mMultiRNNCell\u001b[0m\u001b[0;34m(\u001b[0m\u001b[0mstackedRNNs\u001b[0m\u001b[0;34m,\u001b[0m \u001b[0mstate_is_tuple\u001b[0m\u001b[0;34m=\u001b[0m\u001b[0;32mTrue\u001b[0m\u001b[0;34m)\u001b[0m \u001b[0;32mif\u001b[0m \u001b[0mnum_stacked_layers\u001b[0m \u001b[0;34m>\u001b[0m \u001b[0;36m1\u001b[0m \u001b[0;32melse\u001b[0m \u001b[0mlstm_cell\u001b[0m\u001b[0;34m(\u001b[0m\u001b[0;34m)\u001b[0m\u001b[0;34m\u001b[0m\u001b[0;34m\u001b[0m\u001b[0m\n\u001b[1;32m     18\u001b[0m \u001b[0;34m\u001b[0m\u001b[0m\n",
            "\u001b[0;32m<ipython-input-17-f2c1556e2bd3>\u001b[0m in \u001b[0;36mlstm_cell\u001b[0;34m()\u001b[0m\n\u001b[1;32m      7\u001b[0m     \u001b[0;31m# state_is_tuple: True ==> accepted and returned states are 2-tuples of the c_state and m_state.\u001b[0m\u001b[0;34m\u001b[0m\u001b[0;34m\u001b[0m\u001b[0;34m\u001b[0m\u001b[0m\n\u001b[1;32m      8\u001b[0m     \u001b[0;31m# state_is_tuple: False ==> they are concatenated along the column axis.\u001b[0m\u001b[0;34m\u001b[0m\u001b[0;34m\u001b[0m\u001b[0;34m\u001b[0m\u001b[0m\n\u001b[0;32m----> 9\u001b[0;31m     cell = tf.contrib.rnn.BasicLSTMCell(num_units=rnn_cell_hidden_dim, \n\u001b[0m\u001b[1;32m     10\u001b[0m                                         forget_bias=forget_bias, state_is_tuple=True, activation=tf.nn.softsign)\n\u001b[1;32m     11\u001b[0m     \u001b[0;32mif\u001b[0m \u001b[0mkeep_prob\u001b[0m \u001b[0;34m<\u001b[0m \u001b[0;36m1.0\u001b[0m\u001b[0;34m:\u001b[0m\u001b[0;34m\u001b[0m\u001b[0;34m\u001b[0m\u001b[0m\n",
            "\u001b[0;31mAttributeError\u001b[0m: module 'tensorflow.compat.v1' has no attribute 'contrib'"
          ]
        }
      ]
    },
    {
      "cell_type": "code",
      "metadata": {
        "id": "3J8psIVwvq7J",
        "colab_type": "code",
        "colab": {}
      },
      "source": [
        "# 학습한다\n",
        "start_time = datetime.datetime.now() # 시작시간을 기록한다\n",
        "print('학습을 시작합니다...')\n",
        "for epoch in range(epoch_num):\n",
        "    _, _loss = sess.run([train, loss], feed_dict={X: trainX, Y: trainY})\n",
        "    if ((epoch+1) % 100 == 0) or (epoch == epoch_num-1): # 100번째마다 또는 마지막 epoch인 경우\n",
        "        # 학습용데이터로 rmse오차를 구한다\n",
        "        train_predict = sess.run(hypothesis, feed_dict={X: trainX})\n",
        "        train_error = sess.run(rmse, feed_dict={targets: trainY, predictions: train_predict})\n",
        "        train_error_summary.append(train_error)\n",
        " \n",
        "        # 테스트용데이터로 rmse오차를 구한다\n",
        "        test_predict = sess.run(hypothesis, feed_dict={X: testX})\n",
        "        test_error = sess.run(rmse, feed_dict={targets: testY, predictions: test_predict})\n",
        "        test_error_summary.append(test_error)\n",
        "        \n",
        "        # 현재 오류를 출력한다\n",
        "        print(\"epoch: {}, train_error(A): {}, test_error(B): {}, B-A: {}\".format(epoch+1, train_error, test_error, test_error-train_error))\n",
        "        \n",
        "end_time = datetime.datetime.now() # 종료시간을 기록한다\n",
        "elapsed_time = end_time - start_time # 경과시간을 구한다\n",
        "print('elapsed_time:',elapsed_time)\n",
        "print('elapsed_time per epoch:',elapsed_time/epoch_num)"
      ],
      "execution_count": null,
      "outputs": []
    },
    {
      "cell_type": "code",
      "metadata": {
        "id": "6pyNJigSvlBv",
        "colab_type": "code",
        "colab": {}
      },
      "source": [
        "# 하이퍼파라미터 출력\n",
        "print('input_data_column_cnt:', input_data_column_cnt, end='')\n",
        "print(',output_data_column_cnt:', output_data_column_cnt, end='')\n",
        " \n",
        "print(',seq_length:', seq_length, end='')\n",
        "print(',rnn_cell_hidden_dim:', rnn_cell_hidden_dim, end='')\n",
        "print(',forget_bias:', forget_bias, end='')\n",
        "print(',num_stacked_layers:', num_stacked_layers, end='')\n",
        "print(',keep_prob:', keep_prob, end='')\n",
        " \n",
        "print(',epoch_num:', epoch_num, end='')\n",
        "print(',learning_rate:', learning_rate, end='')\n",
        " \n",
        "print(',train_error:', train_error_summary[-1], end='')\n",
        "print(',test_error:', test_error_summary[-1], end='')\n",
        "print(',min_test_error:', np.min(test_error_summary))"
      ],
      "execution_count": null,
      "outputs": []
    },
    {
      "cell_type": "code",
      "metadata": {
        "id": "aOIiKAGAvfEx",
        "colab_type": "code",
        "colab": {}
      },
      "source": [
        "# 결과 그래프 출력\n",
        "plt.figure(1)\n",
        "plt.plot(train_error_summary, 'gold')\n",
        "plt.plot(test_error_summary, 'b')\n",
        "plt.xlabel('Epoch(x100)')\n",
        "plt.ylabel('Root Mean Square Error')\n",
        " \n",
        "plt.figure(2)\n",
        "plt.plot(testY, 'r')\n",
        "plt.plot(test_predict, 'b')\n",
        "plt.xlabel('Time Period')\n",
        "plt.ylabel('Stock Price')\n",
        "plt.show()"
      ],
      "execution_count": null,
      "outputs": []
    },
    {
      "cell_type": "code",
      "metadata": {
        "id": "J26bZLZDvfNy",
        "colab_type": "code",
        "colab": {}
      },
      "source": [
        "# sequence length만큼의 가장 최근 데이터를 슬라이싱한다\n",
        "recent_data = np.array([x[len(x)-seq_length : ]])\n",
        "print(\"recent_data.shape:\", recent_data.shape)\n",
        "print(\"recent_data:\", recent_data)"
      ],
      "execution_count": null,
      "outputs": []
    },
    {
      "cell_type": "code",
      "metadata": {
        "id": "LHjJe0eKvZ7P",
        "colab_type": "code",
        "colab": {}
      },
      "source": [
        "# 내일 종가를 예측해본다\n",
        "test_predict = sess.run(hypothesis, feed_dict={X: recent_data})\n",
        " \n",
        "print(\"test_predict\", test_predict[0])\n",
        "test_predict = reverse_min_max_scaling(price,test_predict) # 금액데이터 역정규화한다\n",
        "print(\"Tomorrow's stock price\", test_predict[0]) # 예측한 주가를 출력한다"
      ],
      "execution_count": null,
      "outputs": []
    }
  ]
}
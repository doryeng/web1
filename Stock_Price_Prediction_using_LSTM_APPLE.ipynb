{
  "nbformat": 4,
  "nbformat_minor": 0,
  "metadata": {
    "colab": {
      "name": "Stock Price Prediction using LSTM_APPLE",
      "provenance": [],
      "collapsed_sections": [],
      "authorship_tag": "ABX9TyPoxQwoUN03V2tWxXOywfN4",
      "include_colab_link": true
    },
    "kernelspec": {
      "name": "python3",
      "display_name": "Python 3"
    }
  },
  "cells": [
    {
      "cell_type": "markdown",
      "metadata": {
        "id": "view-in-github",
        "colab_type": "text"
      },
      "source": [
        "<a href=\"https://colab.research.google.com/github/doryeng/web1/blob/master/Stock_Price_Prediction_using_LSTM_APPLE.ipynb\" target=\"_parent\"><img src=\"https://colab.research.google.com/assets/colab-badge.svg\" alt=\"Open In Colab\"/></a>"
      ]
    },
    {
      "cell_type": "markdown",
      "metadata": {
        "id": "M3dnvgmu9Igj",
        "colab_type": "text"
      },
      "source": [
        "## Using Python & Long Short-Term Memory (LSTM)\n",
        "Source : randerson112358"
      ]
    },
    {
      "cell_type": "code",
      "metadata": {
        "id": "Dpq5UuvY87NL",
        "colab_type": "code",
        "colab": {
          "base_uri": "https://localhost:8080/",
          "height": 90
        },
        "outputId": "ce861dcf-103a-433c-9d96-097773fa6611"
      },
      "source": [
        "#Import the libraries\n",
        "import math\n",
        "import pandas_datareader as web\n",
        "import numpy as np\n",
        "import pandas as pd\n",
        "from sklearn.preprocessing import MinMaxScaler\n",
        "from keras.models import Sequential\n",
        "from keras.layers import Dense, LSTM\n",
        "import matplotlib.pyplot as plt\n",
        "plt.style.use('fivethirtyeight')"
      ],
      "execution_count": null,
      "outputs": [
        {
          "output_type": "stream",
          "text": [
            "/usr/local/lib/python3.6/dist-packages/pandas_datareader/compat/__init__.py:7: FutureWarning: pandas.util.testing is deprecated. Use the functions in the public API at pandas.testing instead.\n",
            "  from pandas.util.testing import assert_frame_equal\n",
            "Using TensorFlow backend.\n"
          ],
          "name": "stderr"
        }
      ]
    },
    {
      "cell_type": "code",
      "metadata": {
        "id": "C_u2jMn19pNS",
        "colab_type": "code",
        "colab": {
          "base_uri": "https://localhost:8080/",
          "height": 431
        },
        "outputId": "33829c3f-f8c2-4f88-f7ab-712de1f8b90d"
      },
      "source": [
        "#Get the stock quote \n",
        "df = web.DataReader('AAPL', data_source='yahoo', start='2012-01-01', end='2020-07-18') \n",
        "#Show the data \n",
        "df"
      ],
      "execution_count": null,
      "outputs": [
        {
          "output_type": "execute_result",
          "data": {
            "text/html": [
              "<div>\n",
              "<style scoped>\n",
              "    .dataframe tbody tr th:only-of-type {\n",
              "        vertical-align: middle;\n",
              "    }\n",
              "\n",
              "    .dataframe tbody tr th {\n",
              "        vertical-align: top;\n",
              "    }\n",
              "\n",
              "    .dataframe thead th {\n",
              "        text-align: right;\n",
              "    }\n",
              "</style>\n",
              "<table border=\"1\" class=\"dataframe\">\n",
              "  <thead>\n",
              "    <tr style=\"text-align: right;\">\n",
              "      <th></th>\n",
              "      <th>High</th>\n",
              "      <th>Low</th>\n",
              "      <th>Open</th>\n",
              "      <th>Close</th>\n",
              "      <th>Volume</th>\n",
              "      <th>Adj Close</th>\n",
              "    </tr>\n",
              "    <tr>\n",
              "      <th>Date</th>\n",
              "      <th></th>\n",
              "      <th></th>\n",
              "      <th></th>\n",
              "      <th></th>\n",
              "      <th></th>\n",
              "      <th></th>\n",
              "    </tr>\n",
              "  </thead>\n",
              "  <tbody>\n",
              "    <tr>\n",
              "      <th>2012-01-03</th>\n",
              "      <td>58.928570</td>\n",
              "      <td>58.428570</td>\n",
              "      <td>58.485714</td>\n",
              "      <td>58.747143</td>\n",
              "      <td>75555200.0</td>\n",
              "      <td>50.857235</td>\n",
              "    </tr>\n",
              "    <tr>\n",
              "      <th>2012-01-04</th>\n",
              "      <td>59.240002</td>\n",
              "      <td>58.468571</td>\n",
              "      <td>58.571430</td>\n",
              "      <td>59.062859</td>\n",
              "      <td>65005500.0</td>\n",
              "      <td>51.130558</td>\n",
              "    </tr>\n",
              "    <tr>\n",
              "      <th>2012-01-05</th>\n",
              "      <td>59.792858</td>\n",
              "      <td>58.952858</td>\n",
              "      <td>59.278572</td>\n",
              "      <td>59.718571</td>\n",
              "      <td>67817400.0</td>\n",
              "      <td>51.698215</td>\n",
              "    </tr>\n",
              "    <tr>\n",
              "      <th>2012-01-06</th>\n",
              "      <td>60.392857</td>\n",
              "      <td>59.888573</td>\n",
              "      <td>59.967144</td>\n",
              "      <td>60.342857</td>\n",
              "      <td>79573200.0</td>\n",
              "      <td>52.238651</td>\n",
              "    </tr>\n",
              "    <tr>\n",
              "      <th>2012-01-09</th>\n",
              "      <td>61.107143</td>\n",
              "      <td>60.192856</td>\n",
              "      <td>60.785713</td>\n",
              "      <td>60.247143</td>\n",
              "      <td>98506100.0</td>\n",
              "      <td>52.155792</td>\n",
              "    </tr>\n",
              "    <tr>\n",
              "      <th>...</th>\n",
              "      <td>...</td>\n",
              "      <td>...</td>\n",
              "      <td>...</td>\n",
              "      <td>...</td>\n",
              "      <td>...</td>\n",
              "      <td>...</td>\n",
              "    </tr>\n",
              "    <tr>\n",
              "      <th>2020-07-13</th>\n",
              "      <td>399.820007</td>\n",
              "      <td>381.029999</td>\n",
              "      <td>389.059998</td>\n",
              "      <td>381.910004</td>\n",
              "      <td>47912300.0</td>\n",
              "      <td>381.910004</td>\n",
              "    </tr>\n",
              "    <tr>\n",
              "      <th>2020-07-14</th>\n",
              "      <td>389.019989</td>\n",
              "      <td>375.510010</td>\n",
              "      <td>379.359985</td>\n",
              "      <td>388.230011</td>\n",
              "      <td>42747300.0</td>\n",
              "      <td>388.230011</td>\n",
              "    </tr>\n",
              "    <tr>\n",
              "      <th>2020-07-15</th>\n",
              "      <td>396.989990</td>\n",
              "      <td>385.959991</td>\n",
              "      <td>395.959991</td>\n",
              "      <td>390.899994</td>\n",
              "      <td>38299500.0</td>\n",
              "      <td>390.899994</td>\n",
              "    </tr>\n",
              "    <tr>\n",
              "      <th>2020-07-16</th>\n",
              "      <td>389.619995</td>\n",
              "      <td>383.619995</td>\n",
              "      <td>386.250000</td>\n",
              "      <td>386.089996</td>\n",
              "      <td>27644400.0</td>\n",
              "      <td>386.089996</td>\n",
              "    </tr>\n",
              "    <tr>\n",
              "      <th>2020-07-17</th>\n",
              "      <td>388.589996</td>\n",
              "      <td>383.359985</td>\n",
              "      <td>387.950012</td>\n",
              "      <td>385.309998</td>\n",
              "      <td>23001300.0</td>\n",
              "      <td>385.309998</td>\n",
              "    </tr>\n",
              "  </tbody>\n",
              "</table>\n",
              "<p>2149 rows × 6 columns</p>\n",
              "</div>"
            ],
            "text/plain": [
              "                  High         Low  ...      Volume   Adj Close\n",
              "Date                                ...                        \n",
              "2012-01-03   58.928570   58.428570  ...  75555200.0   50.857235\n",
              "2012-01-04   59.240002   58.468571  ...  65005500.0   51.130558\n",
              "2012-01-05   59.792858   58.952858  ...  67817400.0   51.698215\n",
              "2012-01-06   60.392857   59.888573  ...  79573200.0   52.238651\n",
              "2012-01-09   61.107143   60.192856  ...  98506100.0   52.155792\n",
              "...                ...         ...  ...         ...         ...\n",
              "2020-07-13  399.820007  381.029999  ...  47912300.0  381.910004\n",
              "2020-07-14  389.019989  375.510010  ...  42747300.0  388.230011\n",
              "2020-07-15  396.989990  385.959991  ...  38299500.0  390.899994\n",
              "2020-07-16  389.619995  383.619995  ...  27644400.0  386.089996\n",
              "2020-07-17  388.589996  383.359985  ...  23001300.0  385.309998\n",
              "\n",
              "[2149 rows x 6 columns]"
            ]
          },
          "metadata": {
            "tags": []
          },
          "execution_count": 19
        }
      ]
    },
    {
      "cell_type": "code",
      "metadata": {
        "id": "mOPvKtj_9uUy",
        "colab_type": "code",
        "colab": {
          "base_uri": "https://localhost:8080/",
          "height": 34
        },
        "outputId": "1ef23abe-32c8-4614-eb09-947d99945301"
      },
      "source": [
        "df.shape"
      ],
      "execution_count": null,
      "outputs": [
        {
          "output_type": "execute_result",
          "data": {
            "text/plain": [
              "(2149, 6)"
            ]
          },
          "metadata": {
            "tags": []
          },
          "execution_count": 20
        }
      ]
    },
    {
      "cell_type": "markdown",
      "metadata": {
        "id": "6xtAYVwtBDfL",
        "colab_type": "text"
      },
      "source": [
        "Visualize the closing price history"
      ]
    },
    {
      "cell_type": "code",
      "metadata": {
        "id": "neqzPD3l9y_I",
        "colab_type": "code",
        "colab": {
          "base_uri": "https://localhost:8080/",
          "height": 518
        },
        "outputId": "7ceccc73-2c6a-45b2-ce5f-bf4e3b2e3459"
      },
      "source": [
        "plt.figure(figsize=(16,8))\n",
        "plt.title('Close Price History')\n",
        "plt.plot(df['Close'])\n",
        "plt.xlabel('Date',fontsize=18)\n",
        "plt.ylabel('Close Price USD ($)',fontsize=18)\n",
        "plt.show()"
      ],
      "execution_count": null,
      "outputs": [
        {
          "output_type": "display_data",
          "data": {
            "image/png": "[encoded data removed]",
            "text/plain": [
              "<Figure size 1152x576 with 1 Axes>"
            ]
          },
          "metadata": {
            "tags": [],
            "needs_background": "light"
          }
        }
      ]
    },
    {
      "cell_type": "code",
      "metadata": {
        "id": "sNgMz36X92mc",
        "colab_type": "code",
        "colab": {}
      },
      "source": [
        "#Create a new dataframe with only the 'Close' column\n",
        "data = df.filter(['Close'])\n",
        "#Converting the dataframe to a numpy array\n",
        "dataset = data.values\n",
        "#Get /Compute the number of rows to train the model on\n",
        "training_data_len = math.ceil( len(dataset) *.8) "
      ],
      "execution_count": null,
      "outputs": []
    },
    {
      "cell_type": "markdown",
      "metadata": {
        "id": "nIEwqtGK-P3V",
        "colab_type": "text"
      },
      "source": [
        "Now scale the data set to be values between 0 and 1 inclusive, I do this because it is generally good practice to scale your data before giving it to the neural network."
      ]
    },
    {
      "cell_type": "code",
      "metadata": {
        "id": "V1i46ugy97UK",
        "colab_type": "code",
        "colab": {}
      },
      "source": [
        "#Scale the all of the data to be values between 0 and 1 \n",
        "scaler = MinMaxScaler(feature_range=(0, 1)) \n",
        "scaled_data = scaler.fit_transform(dataset)"
      ],
      "execution_count": null,
      "outputs": []
    },
    {
      "cell_type": "markdown",
      "metadata": {
        "id": "brGJIakK-KVH",
        "colab_type": "text"
      },
      "source": [
        "Create a training data set that contains the past 60 day closing price values that we want to use to predict the 61st closing price value.\n",
        "So the first column in the ‘x_train’ data set will contain values from the data set from index 0 to index 59 (60 values total) and the second column will contain values from the data set from index 1 to index 60 (60 values) and so on and so forth.\n",
        "The ‘y_train’ data set will contain the 61st value located at index 60 for it’s first column and the 62nd value located at index 61 of the data set for it’s second value and so on and so forth."
      ]
    },
    {
      "cell_type": "code",
      "metadata": {
        "id": "oSv9_OST-FRX",
        "colab_type": "code",
        "colab": {}
      },
      "source": [
        "#Create the scaled training data set \n",
        "train_data = scaled_data[0:training_data_len  , : ]\n",
        "#Split the data into x_train and y_train data sets\n",
        "x_train=[]\n",
        "y_train = []\n",
        "for i in range(60,len(train_data)):\n",
        "    x_train.append(train_data[i-60:i,0])\n",
        "    y_train.append(train_data[i,0])"
      ],
      "execution_count": null,
      "outputs": []
    },
    {
      "cell_type": "markdown",
      "metadata": {
        "id": "Buj1TJLW-cSG",
        "colab_type": "text"
      },
      "source": [
        "Now convert the independent train data set ‘x_train’ and dependent train data set ‘y_train’ to numpy arrays so they can be used for training the LSTM model."
      ]
    },
    {
      "cell_type": "code",
      "metadata": {
        "id": "gMsc3lrH-ZJt",
        "colab_type": "code",
        "colab": {}
      },
      "source": [
        "#Convert x_train and y_train to numpy arrays\n",
        "x_train, y_train = np.array(x_train), np.array(y_train)"
      ],
      "execution_count": null,
      "outputs": []
    },
    {
      "cell_type": "markdown",
      "metadata": {
        "id": "yOK8_Shp-nY3",
        "colab_type": "text"
      },
      "source": [
        "Reshape the data to be 3-dimensional in the form [number of samples, number of time steps, and number of features]. The LSTM model is expecting a 3-dimensional data set."
      ]
    },
    {
      "cell_type": "code",
      "metadata": {
        "id": "SFiJ6uin-kUk",
        "colab_type": "code",
        "colab": {}
      },
      "source": [
        "#Reshape the data into the shape accepted by the LSTM\n",
        "x_train = np.reshape(x_train, (x_train.shape[0],x_train.shape[1],1))"
      ],
      "execution_count": null,
      "outputs": []
    },
    {
      "cell_type": "markdown",
      "metadata": {
        "id": "aHvzTJvM-sgP",
        "colab_type": "text"
      },
      "source": [
        "Build the LSTM model to have two LSTM layers with 50 neurons and two Dense layers, one with 25 neurons and the other with 1 neuron."
      ]
    },
    {
      "cell_type": "code",
      "metadata": {
        "id": "PWk033X2-rOv",
        "colab_type": "code",
        "colab": {}
      },
      "source": [
        "#Build the LSTM network model\n",
        "model = Sequential()\n",
        "model.add(LSTM(units=50, return_sequences=True,input_shape=(x_train.shape[1],1)))\n",
        "model.add(LSTM(units=50, return_sequences=False))\n",
        "model.add(Dense(units=25))\n",
        "model.add(Dense(units=1))"
      ],
      "execution_count": null,
      "outputs": []
    },
    {
      "cell_type": "markdown",
      "metadata": {
        "id": "xvlzq8oX-5J3",
        "colab_type": "text"
      },
      "source": [
        "Compile the model using the mean squared error (MSE) loss function and the adam optimizer."
      ]
    },
    {
      "cell_type": "code",
      "metadata": {
        "id": "BOCSutPp-vyN",
        "colab_type": "code",
        "colab": {}
      },
      "source": [
        "#Compile the model\n",
        "model.compile(optimizer='adam', loss='mean_squared_error')"
      ],
      "execution_count": null,
      "outputs": []
    },
    {
      "cell_type": "markdown",
      "metadata": {
        "id": "bSu6EN-8_BeH",
        "colab_type": "text"
      },
      "source": [
        "Train the model using the training data sets. Note, fit is another name for train. Batch size is the total number of training examples present in a single batch, and epoch is the number of iterations when an entire data set is passed forward and backward through the neural network."
      ]
    },
    {
      "cell_type": "code",
      "metadata": {
        "id": "xWtkC7x4--D0",
        "colab_type": "code",
        "colab": {
          "base_uri": "https://localhost:8080/",
          "height": 738
        },
        "outputId": "346acb49-508c-4ff6-f469-1b9a92a715f0"
      },
      "source": [
        "#Train the model\n",
        "model.fit(x_train, y_train, batch_size=1, epochs=20)   # epochs=20~50 정도의 범위가 적합"
      ],
      "execution_count": null,
      "outputs": [
        {
          "output_type": "stream",
          "text": [
            "Epoch 1/20\n",
            "1660/1660 [==============================] - 55s 33ms/step - loss: 4.6117e-04\n",
            "Epoch 2/20\n",
            "1660/1660 [==============================] - 54s 33ms/step - loss: 2.2086e-04\n",
            "Epoch 3/20\n",
            "1660/1660 [==============================] - 55s 33ms/step - loss: 1.3397e-04\n",
            "Epoch 4/20\n",
            "1660/1660 [==============================] - 55s 33ms/step - loss: 1.2546e-04\n",
            "Epoch 5/20\n",
            "1660/1660 [==============================] - 54s 33ms/step - loss: 1.0041e-04\n",
            "Epoch 6/20\n",
            "1660/1660 [==============================] - 59s 35ms/step - loss: 1.1490e-04\n",
            "Epoch 7/20\n",
            "1660/1660 [==============================] - 54s 33ms/step - loss: 8.9932e-05\n",
            "Epoch 8/20\n",
            "1660/1660 [==============================] - 55s 33ms/step - loss: 9.2028e-05\n",
            "Epoch 9/20\n",
            "1660/1660 [==============================] - 55s 33ms/step - loss: 7.5175e-05\n",
            "Epoch 10/20\n",
            "1660/1660 [==============================] - 54s 33ms/step - loss: 8.1108e-05\n",
            "Epoch 11/20\n",
            "1660/1660 [==============================] - 54s 33ms/step - loss: 8.0451e-05\n",
            "Epoch 12/20\n",
            "1660/1660 [==============================] - 54s 32ms/step - loss: 7.0321e-05\n",
            "Epoch 13/20\n",
            "1660/1660 [==============================] - 55s 33ms/step - loss: 6.8082e-05\n",
            "Epoch 14/20\n",
            "1660/1660 [==============================] - 55s 33ms/step - loss: 6.5214e-05\n",
            "Epoch 15/20\n",
            "1660/1660 [==============================] - 55s 33ms/step - loss: 6.2891e-05\n",
            "Epoch 16/20\n",
            "1660/1660 [==============================] - 54s 33ms/step - loss: 6.6623e-05\n",
            "Epoch 17/20\n",
            "1660/1660 [==============================] - 59s 36ms/step - loss: 6.1943e-05\n",
            "Epoch 18/20\n",
            "1660/1660 [==============================] - 55s 33ms/step - loss: 6.6155e-05\n",
            "Epoch 19/20\n",
            "1660/1660 [==============================] - 54s 33ms/step - loss: 7.1050e-05\n",
            "Epoch 20/20\n",
            "1660/1660 [==============================] - 54s 33ms/step - loss: 6.4654e-05\n"
          ],
          "name": "stdout"
        },
        {
          "output_type": "execute_result",
          "data": {
            "text/plain": [
              "<keras.callbacks.callbacks.History at 0x7fc6f8b31860>"
            ]
          },
          "metadata": {
            "tags": []
          },
          "execution_count": 29
        }
      ]
    },
    {
      "cell_type": "markdown",
      "metadata": {
        "id": "IlgDoZHc_LLU",
        "colab_type": "text"
      },
      "source": [
        "Create a test data set."
      ]
    },
    {
      "cell_type": "code",
      "metadata": {
        "id": "UpNwKQCd_F98",
        "colab_type": "code",
        "colab": {}
      },
      "source": [
        "#Test data set\n",
        "test_data = scaled_data[training_data_len - 60: , : ]\n",
        "#Create the x_test and y_test data sets\n",
        "x_test = []\n",
        "y_test =  dataset[training_data_len : , : ] #Get all of the rows from index 1603 to the rest and all of the columns (in this case it's only column 'Close'), so 2003 - 1603 = 400 rows of data\n",
        "for i in range(60,len(test_data)):\n",
        "    x_test.append(test_data[i-60:i,0])"
      ],
      "execution_count": 30,
      "outputs": []
    },
    {
      "cell_type": "markdown",
      "metadata": {
        "id": "ymGSZ1xV_i4W",
        "colab_type": "text"
      },
      "source": [
        "Then convert the independent test data set ‘x_test’ to a numpy array so it can be used for testing the LSTM model."
      ]
    },
    {
      "cell_type": "code",
      "metadata": {
        "id": "1A669IK0_fkK",
        "colab_type": "code",
        "colab": {}
      },
      "source": [
        "#Convert x_test to a numpy array \n",
        "x_test = np.array(x_test)"
      ],
      "execution_count": 31,
      "outputs": []
    },
    {
      "cell_type": "markdown",
      "metadata": {
        "id": "USht7XNE_qwb",
        "colab_type": "text"
      },
      "source": [
        "Reshape the data to be 3-dimensional in the form [number of samples, number of time steps, and number of features]. This needs to be done, because the LSTM model is expecting a 3-dimensional data set."
      ]
    },
    {
      "cell_type": "code",
      "metadata": {
        "id": "imbRe7AN_mfj",
        "colab_type": "code",
        "colab": {}
      },
      "source": [
        "#Reshape the data into the shape accepted by the LSTM\n",
        "x_test = np.reshape(x_test, (x_test.shape[0],x_test.shape[1],1))"
      ],
      "execution_count": 32,
      "outputs": []
    },
    {
      "cell_type": "markdown",
      "metadata": {
        "id": "G8HVDBgn_y4s",
        "colab_type": "text"
      },
      "source": [
        "Now get the predicted values from the model using the test data."
      ]
    },
    {
      "cell_type": "code",
      "metadata": {
        "id": "BDuHSbuA_u9e",
        "colab_type": "code",
        "colab": {}
      },
      "source": [
        "#Getting the models predicted price values\n",
        "predictions = model.predict(x_test) \n",
        "predictions = scaler.inverse_transform(predictions)#Undo scaling"
      ],
      "execution_count": 33,
      "outputs": []
    },
    {
      "cell_type": "markdown",
      "metadata": {
        "id": "QvrlUsrO_7Au",
        "colab_type": "text"
      },
      "source": [
        "Get the root mean squared error (RMSE), which is a good measure of how accurate the model is. A value of 0 would indicate that the models predicted values match the actual values from the test data set perfectly.\n",
        "The lower the value the better the model performed. But usually it is best to use other metrics as well to truly get an idea of how well the model performed."
      ]
    },
    {
      "cell_type": "code",
      "metadata": {
        "id": "oRt4O9Ye_3cq",
        "colab_type": "code",
        "colab": {
          "base_uri": "https://localhost:8080/",
          "height": 34
        },
        "outputId": "7809c181-f417-42b7-ee27-c92a5069b9c4"
      },
      "source": [
        "#Calculate/Get the value of RMSE\n",
        "rmse=np.sqrt(np.mean(((predictions- y_test)**2)))\n",
        "rmse"
      ],
      "execution_count": 34,
      "outputs": [
        {
          "output_type": "execute_result",
          "data": {
            "text/plain": [
              "13.339896494452676"
            ]
          },
          "metadata": {
            "tags": []
          },
          "execution_count": 34
        }
      ]
    },
    {
      "cell_type": "markdown",
      "metadata": {
        "id": "VTEErggSAEB4",
        "colab_type": "text"
      },
      "source": [
        "Let’s plot and visualize the data."
      ]
    },
    {
      "cell_type": "code",
      "metadata": {
        "id": "WNjscl4T_-8q",
        "colab_type": "code",
        "colab": {
          "base_uri": "https://localhost:8080/",
          "height": 624
        },
        "outputId": "9a8b099e-1c98-4828-cf00-71b21c57dbd2"
      },
      "source": [
        "#Plot/Create the data for the graph\n",
        "train = data[:training_data_len]\n",
        "valid = data[training_data_len:]\n",
        "valid['Predictions'] = predictions\n",
        "#Visualize the data\n",
        "plt.figure(figsize=(16,8))\n",
        "plt.title('Model')\n",
        "plt.xlabel('Date', fontsize=18)\n",
        "plt.ylabel('Close Price USD ($)', fontsize=18)\n",
        "plt.plot(train['Close'])\n",
        "plt.plot(valid[['Close', 'Predictions']])\n",
        "plt.legend(['Train', 'Val', 'Predictions'], loc='lower right')\n",
        "plt.show()"
      ],
      "execution_count": 35,
      "outputs": [
        {
          "output_type": "stream",
          "text": [
            "/usr/local/lib/python3.6/dist-packages/ipykernel_launcher.py:4: SettingWithCopyWarning: \n",
            "A value is trying to be set on a copy of a slice from a DataFrame.\n",
            "Try using .loc[row_indexer,col_indexer] = value instead\n",
            "\n",
            "See the caveats in the documentation: https://pandas.pydata.org/pandas-docs/stable/user_guide/indexing.html#returning-a-view-versus-a-copy\n",
            "  after removing the cwd from sys.path.\n"
          ],
          "name": "stderr"
        },
        {
          "output_type": "display_data",
          "data": {
            "image/png": "[encoded data removed]",
            "text/plain": [
              "<Figure size 1152x576 with 1 Axes>"
            ]
          },
          "metadata": {
            "tags": [],
            "needs_background": "light"
          }
        }
      ]
    },
    {
      "cell_type": "code",
      "metadata": {
        "id": "lWtcEPEBSnZ7",
        "colab_type": "code",
        "colab": {}
      },
      "source": [
        ""
      ],
      "execution_count": null,
      "outputs": []
    }
  ]
}
{
  "nbformat": 4,
  "nbformat_minor": 0,
  "metadata": {
    "colab": {
      "name": "LottoDredict.ipynb",
      "provenance": [],
      "authorship_tag": "ABX9TyOSnEdMBVBG2ZFIFcMNyvbV",
      "include_colab_link": true
    },
    "kernelspec": {
      "name": "python3",
      "display_name": "Python 3"
    },
    "accelerator": "GPU"
  },
  "cells": [
    {
      "cell_type": "markdown",
      "metadata": {
        "id": "view-in-github",
        "colab_type": "text"
      },
      "source": [
        "<a href=\"https://colab.research.google.com/github/doryeng/web1/blob/master/LottoDredict.ipynb\" target=\"_parent\"><img src=\"https://colab.research.google.com/assets/colab-badge.svg\" alt=\"Open In Colab\"/></a>"
      ]
    },
    {
      "cell_type": "markdown",
      "metadata": {
        "id": "zIa5TeX07q_I",
        "colab_type": "text"
      },
      "source": [
        "Lotto 당첨번호를 바탕으로 새로운 로또번호 추출하기"
      ]
    },
    {
      "cell_type": "code",
      "metadata": {
        "id": "YgmvFRCc42xv",
        "colab_type": "code",
        "colab": {}
      },
      "source": [
        "import requests\n",
        "import random\n",
        "\n",
        "\n",
        "def get_lotto_number(episode):\n",
        "    params = {\n",
        "        'method': 'getLottoNumber',\n",
        "        'drwNo': episode\n",
        "    }\n",
        "\n",
        "    request = requests.get('http://www.dhlottery.co.kr/common.do',\n",
        "                            params=params)\n",
        "    response = request.json()\n",
        "\n",
        "    num_arr = []\n",
        "    for i in range(1,7):\n",
        "        num_arr.append(response[\"drwtNo\" + str(i)])\n",
        "    return num_arr\n",
        "\n",
        "\n",
        "old_lotto_numbers = []\n",
        "my_lotto_numbers = []\n",
        "\n",
        "for i in range(1,920):\n",
        "    old_lotto_numbers.append(get_lotto_number(i))\n",
        "# for i in range(1, 920): 1회차부터 919회까지 당첨번호\n",
        "# 이 부분의 원하는 범위를 입력으로 처리할 것\n",
        "\n",
        "while len(my_lotto_numbers) < 5:\n",
        "    list_of_numbers = list(range(1,46))\n",
        "    random.shuffle(list_of_numbers)\n",
        "    numbers = list_of_numbers[:6]\n",
        "\n",
        "    if numbers not in old_lotto_numbers or nymbers not in my_lotto_numbers:\n",
        "        my_lotto_numbers.append(numbers)\n",
        "\n",
        "\n",
        "f = open(\"pre-lotto_920_1.txt\", 'w') # 추출번호는 920회차의 예측번호임.\n",
        "for nums in my_lotto_numbers:\n",
        "    f.write(str(sorted(nums)) + \"\\n\")\n",
        "f.close()\n",
        "\n",
        "# f = open(\"pre-nubmers_920_1.txt\", 'w')\n",
        "# 원하는 회차넘버를 입력하면 저장이 되도록"
      ],
      "execution_count": null,
      "outputs": []
    },
    {
      "cell_type": "code",
      "metadata": {
        "id": "fKTea5KD5HzW",
        "colab_type": "code",
        "colab": {}
      },
      "source": [
        ""
      ],
      "execution_count": null,
      "outputs": []
    }
  ]
}
{
  "nbformat": 4,
  "nbformat_minor": 0,
  "metadata": {
    "colab": {
      "name": "Silver Price Predict_LSTM.ipynb",
      "provenance": [],
      "collapsed_sections": [],
      "authorship_tag": "ABX9TyPCX04/vfSGkdzQ3Ipux9uE",
      "include_colab_link": true
    },
    "kernelspec": {
      "name": "python3",
      "display_name": "Python 3"
    }
  },
  "cells": [
    {
      "cell_type": "markdown",
      "metadata": {
        "id": "view-in-github",
        "colab_type": "text"
      },
      "source": [
        "<a href=\"https://colab.research.google.com/github/doryeng/web1/blob/master/Silver_Price_Predict_LSTM.ipynb\" target=\"_parent\"><img src=\"https://colab.research.google.com/assets/colab-badge.svg\" alt=\"Open In Colab\"/></a>"
      ]
    },
    {
      "cell_type": "markdown",
      "metadata": {
        "id": "M3dnvgmu9Igj",
        "colab_type": "text"
      },
      "source": [
        "### Silver Price Prediction Using Python & LSTM(Long Short-Term Memory)\n",
        "Reference : randerson112358"
      ]
    },
    {
      "cell_type": "code",
      "metadata": {
        "id": "Dpq5UuvY87NL",
        "colab_type": "code",
        "colab": {
          "base_uri": "https://localhost:8080/",
          "height": 90
        },
        "outputId": "ae55e75d-df82-4fec-d51b-a3a38b9a7756"
      },
      "source": [
        "#Import the libraries\n",
        "import math\n",
        "import pandas_datareader as web\n",
        "import numpy as np\n",
        "import pandas as pd\n",
        "from sklearn.preprocessing import MinMaxScaler\n",
        "from keras.models import Sequential\n",
        "from keras.layers import Dense, LSTM\n",
        "import matplotlib.pyplot as plt\n",
        "plt.style.use('fivethirtyeight')"
      ],
      "execution_count": 1,
      "outputs": [
        {
          "output_type": "stream",
          "text": [
            "/usr/local/lib/python3.6/dist-packages/pandas_datareader/compat/__init__.py:7: FutureWarning: pandas.util.testing is deprecated. Use the functions in the public API at pandas.testing instead.\n",
            "  from pandas.util.testing import assert_frame_equal\n",
            "Using TensorFlow backend.\n"
          ],
          "name": "stderr"
        }
      ]
    },
    {
      "cell_type": "code",
      "metadata": {
        "id": "C_u2jMn19pNS",
        "colab_type": "code",
        "colab": {
          "base_uri": "https://localhost:8080/",
          "height": 431
        },
        "outputId": "be049e6b-eec0-4317-c6af-2ef3044148a4"
      },
      "source": [
        "#Get the stock quote \n",
        "df = web.DataReader('SI=F', data_source='yahoo', start='2000-01-01') \n",
        "#Show the data \n",
        "df"
      ],
      "execution_count": 2,
      "outputs": [
        {
          "output_type": "execute_result",
          "data": {
            "text/html": [
              "<div>\n",
              "<style scoped>\n",
              "    .dataframe tbody tr th:only-of-type {\n",
              "        vertical-align: middle;\n",
              "    }\n",
              "\n",
              "    .dataframe tbody tr th {\n",
              "        vertical-align: top;\n",
              "    }\n",
              "\n",
              "    .dataframe thead th {\n",
              "        text-align: right;\n",
              "    }\n",
              "</style>\n",
              "<table border=\"1\" class=\"dataframe\">\n",
              "  <thead>\n",
              "    <tr style=\"text-align: right;\">\n",
              "      <th></th>\n",
              "      <th>High</th>\n",
              "      <th>Low</th>\n",
              "      <th>Open</th>\n",
              "      <th>Close</th>\n",
              "      <th>Volume</th>\n",
              "      <th>Adj Close</th>\n",
              "    </tr>\n",
              "    <tr>\n",
              "      <th>Date</th>\n",
              "      <th></th>\n",
              "      <th></th>\n",
              "      <th></th>\n",
              "      <th></th>\n",
              "      <th></th>\n",
              "      <th></th>\n",
              "    </tr>\n",
              "  </thead>\n",
              "  <tbody>\n",
              "    <tr>\n",
              "      <th>2000-02-28</th>\n",
              "      <td>5.095000</td>\n",
              "      <td>5.020000</td>\n",
              "      <td>5.045000</td>\n",
              "      <td>5.048000</td>\n",
              "      <td>14203.0</td>\n",
              "      <td>5.048000</td>\n",
              "    </tr>\n",
              "    <tr>\n",
              "      <th>2000-02-29</th>\n",
              "      <td>5.090000</td>\n",
              "      <td>5.035000</td>\n",
              "      <td>5.065000</td>\n",
              "      <td>5.048000</td>\n",
              "      <td>2830.0</td>\n",
              "      <td>5.048000</td>\n",
              "    </tr>\n",
              "    <tr>\n",
              "      <th>2000-03-01</th>\n",
              "      <td>5.130000</td>\n",
              "      <td>5.050000</td>\n",
              "      <td>5.070000</td>\n",
              "      <td>5.073000</td>\n",
              "      <td>511.0</td>\n",
              "      <td>5.073000</td>\n",
              "    </tr>\n",
              "    <tr>\n",
              "      <th>2000-03-02</th>\n",
              "      <td>5.105000</td>\n",
              "      <td>5.000000</td>\n",
              "      <td>5.105000</td>\n",
              "      <td>5.008000</td>\n",
              "      <td>645.0</td>\n",
              "      <td>5.008000</td>\n",
              "    </tr>\n",
              "    <tr>\n",
              "      <th>2000-03-03</th>\n",
              "      <td>5.110000</td>\n",
              "      <td>5.000000</td>\n",
              "      <td>5.020000</td>\n",
              "      <td>5.099000</td>\n",
              "      <td>307.0</td>\n",
              "      <td>5.099000</td>\n",
              "    </tr>\n",
              "    <tr>\n",
              "      <th>...</th>\n",
              "      <td>...</td>\n",
              "      <td>...</td>\n",
              "      <td>...</td>\n",
              "      <td>...</td>\n",
              "      <td>...</td>\n",
              "      <td>...</td>\n",
              "    </tr>\n",
              "    <tr>\n",
              "      <th>2020-07-23</th>\n",
              "      <td>23.375000</td>\n",
              "      <td>22.475000</td>\n",
              "      <td>22.790001</td>\n",
              "      <td>22.805000</td>\n",
              "      <td>92899521.0</td>\n",
              "      <td>22.805000</td>\n",
              "    </tr>\n",
              "    <tr>\n",
              "      <th>2020-07-24</th>\n",
              "      <td>23.184999</td>\n",
              "      <td>22.580000</td>\n",
              "      <td>22.840000</td>\n",
              "      <td>22.975000</td>\n",
              "      <td>59444547.0</td>\n",
              "      <td>22.975000</td>\n",
              "    </tr>\n",
              "    <tr>\n",
              "      <th>2020-07-26</th>\n",
              "      <td>23.410000</td>\n",
              "      <td>22.940001</td>\n",
              "      <td>22.969999</td>\n",
              "      <td>23.410000</td>\n",
              "      <td>516377.0</td>\n",
              "      <td>23.410000</td>\n",
              "    </tr>\n",
              "    <tr>\n",
              "      <th>2020-07-27</th>\n",
              "      <td>25.650000</td>\n",
              "      <td>24.084999</td>\n",
              "      <td>24.110001</td>\n",
              "      <td>25.584999</td>\n",
              "      <td>113146557.0</td>\n",
              "      <td>25.584999</td>\n",
              "    </tr>\n",
              "    <tr>\n",
              "      <th>2020-07-28</th>\n",
              "      <td>24.990000</td>\n",
              "      <td>22.465000</td>\n",
              "      <td>24.695000</td>\n",
              "      <td>23.410000</td>\n",
              "      <td>22240016.0</td>\n",
              "      <td>23.410000</td>\n",
              "    </tr>\n",
              "  </tbody>\n",
              "</table>\n",
              "<p>5122 rows × 6 columns</p>\n",
              "</div>"
            ],
            "text/plain": [
              "                 High        Low       Open      Close       Volume  Adj Close\n",
              "Date                                                                          \n",
              "2000-02-28   5.095000   5.020000   5.045000   5.048000      14203.0   5.048000\n",
              "2000-02-29   5.090000   5.035000   5.065000   5.048000       2830.0   5.048000\n",
              "2000-03-01   5.130000   5.050000   5.070000   5.073000        511.0   5.073000\n",
              "2000-03-02   5.105000   5.000000   5.105000   5.008000        645.0   5.008000\n",
              "2000-03-03   5.110000   5.000000   5.020000   5.099000        307.0   5.099000\n",
              "...               ...        ...        ...        ...          ...        ...\n",
              "2020-07-23  23.375000  22.475000  22.790001  22.805000   92899521.0  22.805000\n",
              "2020-07-24  23.184999  22.580000  22.840000  22.975000   59444547.0  22.975000\n",
              "2020-07-26  23.410000  22.940001  22.969999  23.410000     516377.0  23.410000\n",
              "2020-07-27  25.650000  24.084999  24.110001  25.584999  113146557.0  25.584999\n",
              "2020-07-28  24.990000  22.465000  24.695000  23.410000   22240016.0  23.410000\n",
              "\n",
              "[5122 rows x 6 columns]"
            ]
          },
          "metadata": {
            "tags": []
          },
          "execution_count": 2
        }
      ]
    },
    {
      "cell_type": "code",
      "metadata": {
        "id": "mOPvKtj_9uUy",
        "colab_type": "code",
        "colab": {
          "base_uri": "https://localhost:8080/",
          "height": 34
        },
        "outputId": "1b558c92-1f60-4050-f477-ec36d02f488d"
      },
      "source": [
        "df.shape"
      ],
      "execution_count": 3,
      "outputs": [
        {
          "output_type": "execute_result",
          "data": {
            "text/plain": [
              "(5122, 6)"
            ]
          },
          "metadata": {
            "tags": []
          },
          "execution_count": 3
        }
      ]
    },
    {
      "cell_type": "markdown",
      "metadata": {
        "id": "6xtAYVwtBDfL",
        "colab_type": "text"
      },
      "source": [
        "Visualize the closing price history"
      ]
    },
    {
      "cell_type": "code",
      "metadata": {
        "id": "neqzPD3l9y_I",
        "colab_type": "code",
        "colab": {
          "base_uri": "https://localhost:8080/",
          "height": 392
        },
        "outputId": "2ee040a2-5e40-4802-d59d-68126a9417ab"
      },
      "source": [
        "plt.figure(figsize=(16,8))\n",
        "plt.title('Silver Price History')\n",
        "plt.plot(df['Close'])\n",
        "plt.xlabel('Date',fontsize=18)\n",
        "plt.ylabel('Silver Price USD ($)',fontsize=18)\n",
        "plt.show()"
      ],
      "execution_count": 4,
      "outputs": [
        {
          "output_type": "display_data",
          "data": {
            "image/png": "[encoded data removed]",
            "text/plain": [
              "<Figure size 1152x576 with 1 Axes>"
            ]
          },
          "metadata": {
            "tags": [],
            "needs_background": "light"
          }
        }
      ]
    },
    {
      "cell_type": "code",
      "metadata": {
        "id": "sNgMz36X92mc",
        "colab_type": "code",
        "colab": {}
      },
      "source": [
        "#Create a new dataframe with only the 'Close' column\n",
        "data = df.filter(['Close'])\n",
        "#Converting the dataframe to a numpy array\n",
        "dataset = data.values\n",
        "#Get /Compute the number of rows to train the model on\n",
        "training_data_len = math.ceil( len(dataset) *.8) "
      ],
      "execution_count": 5,
      "outputs": []
    },
    {
      "cell_type": "markdown",
      "metadata": {
        "id": "nIEwqtGK-P3V",
        "colab_type": "text"
      },
      "source": [
        "Now scale the data set to be values between 0 and 1 inclusive, I do this because it is generally good practice to scale your data before giving it to the neural network."
      ]
    },
    {
      "cell_type": "code",
      "metadata": {
        "id": "V1i46ugy97UK",
        "colab_type": "code",
        "colab": {}
      },
      "source": [
        "#Scale the all of the data to be values between 0 and 1 \n",
        "scaler = MinMaxScaler(feature_range=(0, 1)) \n",
        "scaled_data = scaler.fit_transform(dataset)"
      ],
      "execution_count": 6,
      "outputs": []
    },
    {
      "cell_type": "markdown",
      "metadata": {
        "id": "brGJIakK-KVH",
        "colab_type": "text"
      },
      "source": [
        "Create a training data set that contains the past 60 day closing price values that we want to use to predict the 61st closing price value.\n",
        "So the first column in the ‘x_train’ data set will contain values from the data set from index 0 to index 59 (60 values total) and the second column will contain values from the data set from index 1 to index 60 (60 values) and so on and so forth.\n",
        "The ‘y_train’ data set will contain the 61st value located at index 60 for it’s first column and the 62nd value located at index 61 of the data set for it’s second value and so on and so forth."
      ]
    },
    {
      "cell_type": "code",
      "metadata": {
        "id": "oSv9_OST-FRX",
        "colab_type": "code",
        "colab": {}
      },
      "source": [
        "#Create the scaled training data set \n",
        "train_data = scaled_data[0:training_data_len  , : ]\n",
        "#Split the data into x_train and y_train data sets\n",
        "x_train=[]\n",
        "y_train = []\n",
        "for i in range(60,len(train_data)):\n",
        "    x_train.append(train_data[i-60:i,0])\n",
        "    y_train.append(train_data[i,0])"
      ],
      "execution_count": 7,
      "outputs": []
    },
    {
      "cell_type": "markdown",
      "metadata": {
        "id": "Buj1TJLW-cSG",
        "colab_type": "text"
      },
      "source": [
        "Now convert the independent train data set ‘x_train’ and dependent train data set ‘y_train’ to numpy arrays so they can be used for training the LSTM model."
      ]
    },
    {
      "cell_type": "code",
      "metadata": {
        "id": "gMsc3lrH-ZJt",
        "colab_type": "code",
        "colab": {}
      },
      "source": [
        "#Convert x_train and y_train to numpy arrays\n",
        "x_train, y_train = np.array(x_train), np.array(y_train)"
      ],
      "execution_count": 8,
      "outputs": []
    },
    {
      "cell_type": "markdown",
      "metadata": {
        "id": "yOK8_Shp-nY3",
        "colab_type": "text"
      },
      "source": [
        "Reshape the data to be 3-dimensional in the form [number of samples, number of time steps, and number of features]. The LSTM model is expecting a 3-dimensional data set."
      ]
    },
    {
      "cell_type": "code",
      "metadata": {
        "id": "SFiJ6uin-kUk",
        "colab_type": "code",
        "colab": {}
      },
      "source": [
        "#Reshape the data into the shape accepted by the LSTM\n",
        "x_train = np.reshape(x_train, (x_train.shape[0],x_train.shape[1],1))"
      ],
      "execution_count": 9,
      "outputs": []
    },
    {
      "cell_type": "markdown",
      "metadata": {
        "id": "aHvzTJvM-sgP",
        "colab_type": "text"
      },
      "source": [
        "Build the LSTM model to have two LSTM layers with 50 neurons and two Dense layers, one with 25 neurons and the other with 1 neuron."
      ]
    },
    {
      "cell_type": "code",
      "metadata": {
        "id": "PWk033X2-rOv",
        "colab_type": "code",
        "colab": {}
      },
      "source": [
        "#Build the LSTM network model\n",
        "model = Sequential()\n",
        "model.add(LSTM(units=50, return_sequences=True,input_shape=(x_train.shape[1],1)))\n",
        "model.add(LSTM(units=50, return_sequences=False))\n",
        "model.add(Dense(units=25))\n",
        "model.add(Dense(units=1))"
      ],
      "execution_count": 10,
      "outputs": []
    },
    {
      "cell_type": "markdown",
      "metadata": {
        "id": "xvlzq8oX-5J3",
        "colab_type": "text"
      },
      "source": [
        "Compile the model using the mean squared error (MSE) loss function and the adam optimizer."
      ]
    },
    {
      "cell_type": "code",
      "metadata": {
        "id": "BOCSutPp-vyN",
        "colab_type": "code",
        "colab": {}
      },
      "source": [
        "#Compile the model\n",
        "model.compile(optimizer='adam', loss='mean_squared_error')"
      ],
      "execution_count": 11,
      "outputs": []
    },
    {
      "cell_type": "markdown",
      "metadata": {
        "id": "bSu6EN-8_BeH",
        "colab_type": "text"
      },
      "source": [
        "Train the model using the training data sets. Note, fit is another name for train. Batch size is the total number of training examples present in a single batch, and epoch is the number of iterations when an entire data set is passed forward and backward through the neural network."
      ]
    },
    {
      "cell_type": "code",
      "metadata": {
        "id": "xWtkC7x4--D0",
        "colab_type": "code",
        "colab": {
          "base_uri": "https://localhost:8080/",
          "height": 738
        },
        "outputId": "b8077f4a-21b4-488d-d5e1-2e17f641e742"
      },
      "source": [
        "#Train the model\n",
        "model.fit(x_train, y_train, batch_size=1, epochs=20)   # epochs=20~50 정도의 범위가 적합"
      ],
      "execution_count": 12,
      "outputs": [
        {
          "output_type": "stream",
          "text": [
            "Epoch 1/20\n",
            "4038/4038 [==============================] - 145s 36ms/step - loss: 8.6551e-04\n",
            "Epoch 2/20\n",
            "4038/4038 [==============================] - 145s 36ms/step - loss: 3.6312e-04\n",
            "Epoch 3/20\n",
            "4038/4038 [==============================] - 144s 36ms/step - loss: 2.8559e-04\n",
            "Epoch 4/20\n",
            "4038/4038 [==============================] - 145s 36ms/step - loss: 2.5914e-04\n",
            "Epoch 5/20\n",
            "4038/4038 [==============================] - 145s 36ms/step - loss: 2.5009e-04\n",
            "Epoch 6/20\n",
            "4038/4038 [==============================] - 148s 37ms/step - loss: 2.3290e-04\n",
            "Epoch 7/20\n",
            "4038/4038 [==============================] - 151s 37ms/step - loss: 1.9523e-04\n",
            "Epoch 8/20\n",
            "4038/4038 [==============================] - 148s 37ms/step - loss: 1.8771e-04\n",
            "Epoch 9/20\n",
            "4038/4038 [==============================] - 146s 36ms/step - loss: 1.8421e-04\n",
            "Epoch 10/20\n",
            "4038/4038 [==============================] - 146s 36ms/step - loss: 1.8227e-04\n",
            "Epoch 11/20\n",
            "4038/4038 [==============================] - 145s 36ms/step - loss: 1.9576e-04\n",
            "Epoch 12/20\n",
            "4038/4038 [==============================] - 143s 36ms/step - loss: 1.7318e-04\n",
            "Epoch 13/20\n",
            "4038/4038 [==============================] - 142s 35ms/step - loss: 1.7432e-04\n",
            "Epoch 14/20\n",
            "4038/4038 [==============================] - 142s 35ms/step - loss: 1.8979e-04\n",
            "Epoch 15/20\n",
            "4038/4038 [==============================] - 143s 35ms/step - loss: 1.5828e-04\n",
            "Epoch 16/20\n",
            "4038/4038 [==============================] - 142s 35ms/step - loss: 1.6167e-04\n",
            "Epoch 17/20\n",
            "4038/4038 [==============================] - 144s 36ms/step - loss: 1.6471e-04\n",
            "Epoch 18/20\n",
            "4038/4038 [==============================] - 143s 35ms/step - loss: 1.5844e-04\n",
            "Epoch 19/20\n",
            "4038/4038 [==============================] - 143s 35ms/step - loss: 1.6691e-04\n",
            "Epoch 20/20\n",
            "4038/4038 [==============================] - 142s 35ms/step - loss: 1.5504e-04\n"
          ],
          "name": "stdout"
        },
        {
          "output_type": "execute_result",
          "data": {
            "text/plain": [
              "<keras.callbacks.callbacks.History at 0x7fec480c4d68>"
            ]
          },
          "metadata": {
            "tags": []
          },
          "execution_count": 12
        }
      ]
    },
    {
      "cell_type": "markdown",
      "metadata": {
        "id": "IlgDoZHc_LLU",
        "colab_type": "text"
      },
      "source": [
        "Create a test data set."
      ]
    },
    {
      "cell_type": "code",
      "metadata": {
        "id": "UpNwKQCd_F98",
        "colab_type": "code",
        "colab": {}
      },
      "source": [
        "#Test data set\n",
        "test_data = scaled_data[training_data_len - 60: , : ]\n",
        "#Create the x_test and y_test data sets\n",
        "x_test = []\n",
        "y_test =  dataset[training_data_len : , : ] #Get all of the rows from index 1603 to the rest and all of the columns (in this case it's only column 'Close'), so 2003 - 1603 = 400 rows of data\n",
        "for i in range(60,len(test_data)):\n",
        "    x_test.append(test_data[i-60:i,0])"
      ],
      "execution_count": 13,
      "outputs": []
    },
    {
      "cell_type": "markdown",
      "metadata": {
        "id": "ymGSZ1xV_i4W",
        "colab_type": "text"
      },
      "source": [
        "Then convert the independent test data set ‘x_test’ to a numpy array so it can be used for testing the LSTM model."
      ]
    },
    {
      "cell_type": "code",
      "metadata": {
        "id": "1A669IK0_fkK",
        "colab_type": "code",
        "colab": {}
      },
      "source": [
        "#Convert x_test to a numpy array \n",
        "x_test = np.array(x_test)"
      ],
      "execution_count": 14,
      "outputs": []
    },
    {
      "cell_type": "markdown",
      "metadata": {
        "id": "USht7XNE_qwb",
        "colab_type": "text"
      },
      "source": [
        "Reshape the data to be 3-dimensional in the form [number of samples, number of time steps, and number of features]. This needs to be done, because the LSTM model is expecting a 3-dimensional data set."
      ]
    },
    {
      "cell_type": "code",
      "metadata": {
        "id": "imbRe7AN_mfj",
        "colab_type": "code",
        "colab": {}
      },
      "source": [
        "#Reshape the data into the shape accepted by the LSTM\n",
        "x_test = np.reshape(x_test, (x_test.shape[0],x_test.shape[1],1))"
      ],
      "execution_count": 15,
      "outputs": []
    },
    {
      "cell_type": "markdown",
      "metadata": {
        "id": "G8HVDBgn_y4s",
        "colab_type": "text"
      },
      "source": [
        "Now get the predicted values from the model using the test data."
      ]
    },
    {
      "cell_type": "code",
      "metadata": {
        "id": "BDuHSbuA_u9e",
        "colab_type": "code",
        "colab": {}
      },
      "source": [
        "#Getting the models predicted price values\n",
        "predictions = model.predict(x_test) \n",
        "predictions = scaler.inverse_transform(predictions)#Undo scaling"
      ],
      "execution_count": 16,
      "outputs": []
    },
    {
      "cell_type": "markdown",
      "metadata": {
        "id": "QvrlUsrO_7Au",
        "colab_type": "text"
      },
      "source": [
        "Get the root mean squared error (RMSE), which is a good measure of how accurate the model is. A value of 0 would indicate that the models predicted values match the actual values from the test data set perfectly.\n",
        "The lower the value the better the model performed. But usually it is best to use other metrics as well to truly get an idea of how well the model performed."
      ]
    },
    {
      "cell_type": "code",
      "metadata": {
        "id": "oRt4O9Ye_3cq",
        "colab_type": "code",
        "colab": {
          "base_uri": "https://localhost:8080/",
          "height": 34
        },
        "outputId": "876c14f5-ed21-46ed-97ba-8fa0841b45fb"
      },
      "source": [
        "#Calculate/Get the value of RMSE\n",
        "rmse=np.sqrt(np.mean(((predictions- y_test)**2)))\n",
        "rmse"
      ],
      "execution_count": 17,
      "outputs": [
        {
          "output_type": "execute_result",
          "data": {
            "text/plain": [
              "0.324766595927104"
            ]
          },
          "metadata": {
            "tags": []
          },
          "execution_count": 17
        }
      ]
    },
    {
      "cell_type": "markdown",
      "metadata": {
        "id": "VTEErggSAEB4",
        "colab_type": "text"
      },
      "source": [
        "Let’s plot and visualize the data."
      ]
    },
    {
      "cell_type": "code",
      "metadata": {
        "id": "WNjscl4T_-8q",
        "colab_type": "code",
        "colab": {
          "base_uri": "https://localhost:8080/",
          "height": 518
        },
        "outputId": "e4d183ce-a215-4c1a-9690-32c08cb5f5d9"
      },
      "source": [
        "#Plot/Create the data for the graph\n",
        "train = data[:training_data_len]\n",
        "valid = data[training_data_len:]\n",
        "valid['Predictions'] = predictions\n",
        "#Visualize the data\n",
        "plt.figure(figsize=(16,8))\n",
        "plt.title('SILVER PRICE')\n",
        "plt.xlabel('Date', fontsize=18)\n",
        "plt.ylabel('Silver Price USD ($)', fontsize=18)\n",
        "plt.plot(train['Close'])\n",
        "plt.plot(valid[['Close', 'Predictions']])\n",
        "plt.legend(['Train', 'Val', 'Predictions'], loc='lower right')\n",
        "plt.show()"
      ],
      "execution_count": 18,
      "outputs": [
        {
          "output_type": "stream",
          "text": [
            "/usr/local/lib/python3.6/dist-packages/ipykernel_launcher.py:4: SettingWithCopyWarning: \n",
            "A value is trying to be set on a copy of a slice from a DataFrame.\n",
            "Try using .loc[row_indexer,col_indexer] = value instead\n",
            "\n",
            "See the caveats in the documentation: https://pandas.pydata.org/pandas-docs/stable/user_guide/indexing.html#returning-a-view-versus-a-copy\n",
            "  after removing the cwd from sys.path.\n"
          ],
          "name": "stderr"
        },
        {
          "output_type": "display_data",
          "data": {
            "image/png": "[encoded data removed]",
            "text/plain": [
              "<Figure size 1152x576 with 1 Axes>"
            ]
          },
          "metadata": {
            "tags": [],
            "needs_background": "light"
          }
        }
      ]
    },
    {
      "cell_type": "code",
      "metadata": {
        "id": "lWtcEPEBSnZ7",
        "colab_type": "code",
        "colab": {}
      },
      "source": [
        ""
      ],
      "execution_count": 18,
      "outputs": []
    }
  ]
}
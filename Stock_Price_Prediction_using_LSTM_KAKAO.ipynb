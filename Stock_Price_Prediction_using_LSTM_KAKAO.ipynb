{
  "nbformat": 4,
  "nbformat_minor": 0,
  "metadata": {
    "colab": {
      "name": "Stock Price Prediction using LSTM_KAKAO",
      "provenance": [],
      "collapsed_sections": [],
      "authorship_tag": "ABX9TyM6+gmtDYMFxQTJBStwyuBX",
      "include_colab_link": true
    },
    "kernelspec": {
      "name": "python3",
      "display_name": "Python 3"
    }
  },
  "cells": [
    {
      "cell_type": "markdown",
      "metadata": {
        "id": "view-in-github",
        "colab_type": "text"
      },
      "source": [
        "<a href=\"https://colab.research.google.com/github/doryeng/web1/blob/master/Stock_Price_Prediction_using_LSTM_KAKAO.ipynb\" target=\"_parent\"><img src=\"https://colab.research.google.com/assets/colab-badge.svg\" alt=\"Open In Colab\"/></a>"
      ]
    },
    {
      "cell_type": "markdown",
      "metadata": {
        "id": "M3dnvgmu9Igj",
        "colab_type": "text"
      },
      "source": [
        "## Stock Price Prediction Using Python & Long Short-Term Memory (LSTM)\n",
        "Source : randerson112358"
      ]
    },
    {
      "cell_type": "code",
      "metadata": {
        "id": "Dpq5UuvY87NL",
        "colab_type": "code",
        "colab": {
          "base_uri": "https://localhost:8080/",
          "height": 90
        },
        "outputId": "64b28fb7-0653-4184-d32a-2079e905e197"
      },
      "source": [
        "#Import the libraries\n",
        "import math\n",
        "import pandas_datareader as web\n",
        "import numpy as np\n",
        "import pandas as pd\n",
        "from sklearn.preprocessing import MinMaxScaler\n",
        "from keras.models import Sequential\n",
        "from keras.layers import Dense, LSTM\n",
        "import matplotlib.pyplot as plt\n",
        "plt.style.use('fivethirtyeight')"
      ],
      "execution_count": 1,
      "outputs": [
        {
          "output_type": "stream",
          "text": [
            "/usr/local/lib/python3.6/dist-packages/pandas_datareader/compat/__init__.py:7: FutureWarning: pandas.util.testing is deprecated. Use the functions in the public API at pandas.testing instead.\n",
            "  from pandas.util.testing import assert_frame_equal\n",
            "Using TensorFlow backend.\n"
          ],
          "name": "stderr"
        }
      ]
    },
    {
      "cell_type": "code",
      "metadata": {
        "id": "C_u2jMn19pNS",
        "colab_type": "code",
        "colab": {
          "base_uri": "https://localhost:8080/",
          "height": 431
        },
        "outputId": "09e67454-66af-48da-aeba-e3b19aa33cff"
      },
      "source": [
        "#Get the stock quote \n",
        "df = web.DataReader('035720.KS', data_source='yahoo', start='2010-01-01', end='2020-07-18') \n",
        "#Show the data \n",
        "df"
      ],
      "execution_count": 2,
      "outputs": [
        {
          "output_type": "execute_result",
          "data": {
            "text/html": [
              "<div>\n",
              "<style scoped>\n",
              "    .dataframe tbody tr th:only-of-type {\n",
              "        vertical-align: middle;\n",
              "    }\n",
              "\n",
              "    .dataframe tbody tr th {\n",
              "        vertical-align: top;\n",
              "    }\n",
              "\n",
              "    .dataframe thead th {\n",
              "        text-align: right;\n",
              "    }\n",
              "</style>\n",
              "<table border=\"1\" class=\"dataframe\">\n",
              "  <thead>\n",
              "    <tr style=\"text-align: right;\">\n",
              "      <th></th>\n",
              "      <th>High</th>\n",
              "      <th>Low</th>\n",
              "      <th>Open</th>\n",
              "      <th>Close</th>\n",
              "      <th>Volume</th>\n",
              "      <th>Adj Close</th>\n",
              "    </tr>\n",
              "    <tr>\n",
              "      <th>Date</th>\n",
              "      <th></th>\n",
              "      <th></th>\n",
              "      <th></th>\n",
              "      <th></th>\n",
              "      <th></th>\n",
              "      <th></th>\n",
              "    </tr>\n",
              "  </thead>\n",
              "  <tbody>\n",
              "    <tr>\n",
              "      <th>2010-01-04</th>\n",
              "      <td>74200.0</td>\n",
              "      <td>69100.0</td>\n",
              "      <td>70300.0</td>\n",
              "      <td>73400.0</td>\n",
              "      <td>158976.0</td>\n",
              "      <td>69441.968750</td>\n",
              "    </tr>\n",
              "    <tr>\n",
              "      <th>2010-01-05</th>\n",
              "      <td>75300.0</td>\n",
              "      <td>72200.0</td>\n",
              "      <td>73000.0</td>\n",
              "      <td>74000.0</td>\n",
              "      <td>124156.0</td>\n",
              "      <td>70009.625000</td>\n",
              "    </tr>\n",
              "    <tr>\n",
              "      <th>2010-01-06</th>\n",
              "      <td>75200.0</td>\n",
              "      <td>73000.0</td>\n",
              "      <td>74600.0</td>\n",
              "      <td>74300.0</td>\n",
              "      <td>72453.0</td>\n",
              "      <td>70293.445312</td>\n",
              "    </tr>\n",
              "    <tr>\n",
              "      <th>2010-01-07</th>\n",
              "      <td>74800.0</td>\n",
              "      <td>72100.0</td>\n",
              "      <td>74300.0</td>\n",
              "      <td>73400.0</td>\n",
              "      <td>99241.0</td>\n",
              "      <td>69441.968750</td>\n",
              "    </tr>\n",
              "    <tr>\n",
              "      <th>2010-01-08</th>\n",
              "      <td>73500.0</td>\n",
              "      <td>70100.0</td>\n",
              "      <td>73500.0</td>\n",
              "      <td>72900.0</td>\n",
              "      <td>114554.0</td>\n",
              "      <td>68968.937500</td>\n",
              "    </tr>\n",
              "    <tr>\n",
              "      <th>...</th>\n",
              "      <td>...</td>\n",
              "      <td>...</td>\n",
              "      <td>...</td>\n",
              "      <td>...</td>\n",
              "      <td>...</td>\n",
              "      <td>...</td>\n",
              "    </tr>\n",
              "    <tr>\n",
              "      <th>2020-07-13</th>\n",
              "      <td>361000.0</td>\n",
              "      <td>345000.0</td>\n",
              "      <td>359000.0</td>\n",
              "      <td>352000.0</td>\n",
              "      <td>1391744.0</td>\n",
              "      <td>352000.000000</td>\n",
              "    </tr>\n",
              "    <tr>\n",
              "      <th>2020-07-14</th>\n",
              "      <td>346500.0</td>\n",
              "      <td>340000.0</td>\n",
              "      <td>340500.0</td>\n",
              "      <td>343000.0</td>\n",
              "      <td>1212519.0</td>\n",
              "      <td>343000.000000</td>\n",
              "    </tr>\n",
              "    <tr>\n",
              "      <th>2020-07-15</th>\n",
              "      <td>349500.0</td>\n",
              "      <td>332000.0</td>\n",
              "      <td>344000.0</td>\n",
              "      <td>337500.0</td>\n",
              "      <td>1487417.0</td>\n",
              "      <td>337500.000000</td>\n",
              "    </tr>\n",
              "    <tr>\n",
              "      <th>2020-07-16</th>\n",
              "      <td>335500.0</td>\n",
              "      <td>319000.0</td>\n",
              "      <td>332000.0</td>\n",
              "      <td>322000.0</td>\n",
              "      <td>1941508.0</td>\n",
              "      <td>322000.000000</td>\n",
              "    </tr>\n",
              "    <tr>\n",
              "      <th>2020-07-17</th>\n",
              "      <td>327000.0</td>\n",
              "      <td>314000.0</td>\n",
              "      <td>319000.0</td>\n",
              "      <td>325000.0</td>\n",
              "      <td>1268587.0</td>\n",
              "      <td>325000.000000</td>\n",
              "    </tr>\n",
              "  </tbody>\n",
              "</table>\n",
              "<p>2596 rows × 6 columns</p>\n",
              "</div>"
            ],
            "text/plain": [
              "                High       Low      Open     Close     Volume      Adj Close\n",
              "Date                                                                        \n",
              "2010-01-04   74200.0   69100.0   70300.0   73400.0   158976.0   69441.968750\n",
              "2010-01-05   75300.0   72200.0   73000.0   74000.0   124156.0   70009.625000\n",
              "2010-01-06   75200.0   73000.0   74600.0   74300.0    72453.0   70293.445312\n",
              "2010-01-07   74800.0   72100.0   74300.0   73400.0    99241.0   69441.968750\n",
              "2010-01-08   73500.0   70100.0   73500.0   72900.0   114554.0   68968.937500\n",
              "...              ...       ...       ...       ...        ...            ...\n",
              "2020-07-13  361000.0  345000.0  359000.0  352000.0  1391744.0  352000.000000\n",
              "2020-07-14  346500.0  340000.0  340500.0  343000.0  1212519.0  343000.000000\n",
              "2020-07-15  349500.0  332000.0  344000.0  337500.0  1487417.0  337500.000000\n",
              "2020-07-16  335500.0  319000.0  332000.0  322000.0  1941508.0  322000.000000\n",
              "2020-07-17  327000.0  314000.0  319000.0  325000.0  1268587.0  325000.000000\n",
              "\n",
              "[2596 rows x 6 columns]"
            ]
          },
          "metadata": {
            "tags": []
          },
          "execution_count": 2
        }
      ]
    },
    {
      "cell_type": "code",
      "metadata": {
        "id": "mOPvKtj_9uUy",
        "colab_type": "code",
        "colab": {
          "base_uri": "https://localhost:8080/",
          "height": 34
        },
        "outputId": "04e6dfba-3872-4b83-be9c-d38b0dd211fa"
      },
      "source": [
        "df.shape"
      ],
      "execution_count": 3,
      "outputs": [
        {
          "output_type": "execute_result",
          "data": {
            "text/plain": [
              "(2596, 6)"
            ]
          },
          "metadata": {
            "tags": []
          },
          "execution_count": 3
        }
      ]
    },
    {
      "cell_type": "markdown",
      "metadata": {
        "id": "6xtAYVwtBDfL",
        "colab_type": "text"
      },
      "source": [
        "Visualize the closing price history"
      ]
    },
    {
      "cell_type": "code",
      "metadata": {
        "id": "neqzPD3l9y_I",
        "colab_type": "code",
        "colab": {
          "base_uri": "https://localhost:8080/",
          "height": 518
        },
        "outputId": "0d0b202e-b3d4-4261-f68f-fcd977466755"
      },
      "source": [
        "plt.figure(figsize=(16,8))\n",
        "plt.title('Close Price History')\n",
        "plt.plot(df['Close'])\n",
        "plt.xlabel('Date',fontsize=18)\n",
        "plt.ylabel('Close Price USD ($)',fontsize=18)\n",
        "plt.show()"
      ],
      "execution_count": 4,
      "outputs": [
        {
          "output_type": "display_data",
          "data": {
            "image/png": "[encoded data removed]",
            "text/plain": [
              "<Figure size 1152x576 with 1 Axes>"
            ]
          },
          "metadata": {
            "tags": [],
            "needs_background": "light"
          }
        }
      ]
    },
    {
      "cell_type": "code",
      "metadata": {
        "id": "sNgMz36X92mc",
        "colab_type": "code",
        "colab": {}
      },
      "source": [
        "#Create a new dataframe with only the 'Close' column\n",
        "data = df.filter(['Close'])\n",
        "#Converting the dataframe to a numpy array\n",
        "dataset = data.values\n",
        "#Get /Compute the number of rows to train the model on\n",
        "training_data_len = math.ceil( len(dataset) *.8) "
      ],
      "execution_count": 5,
      "outputs": []
    },
    {
      "cell_type": "markdown",
      "metadata": {
        "id": "nIEwqtGK-P3V",
        "colab_type": "text"
      },
      "source": [
        "Now scale the data set to be values between 0 and 1 inclusive, I do this because it is generally good practice to scale your data before giving it to the neural network."
      ]
    },
    {
      "cell_type": "code",
      "metadata": {
        "id": "V1i46ugy97UK",
        "colab_type": "code",
        "colab": {}
      },
      "source": [
        "#Scale the all of the data to be values between 0 and 1 \n",
        "scaler = MinMaxScaler(feature_range=(0, 1)) \n",
        "scaled_data = scaler.fit_transform(dataset)"
      ],
      "execution_count": 6,
      "outputs": []
    },
    {
      "cell_type": "markdown",
      "metadata": {
        "id": "brGJIakK-KVH",
        "colab_type": "text"
      },
      "source": [
        "Create a training data set that contains the past 60 day closing price values that we want to use to predict the 61st closing price value.\n",
        "So the first column in the ‘x_train’ data set will contain values from the data set from index 0 to index 59 (60 values total) and the second column will contain values from the data set from index 1 to index 60 (60 values) and so on and so forth.\n",
        "The ‘y_train’ data set will contain the 61st value located at index 60 for it’s first column and the 62nd value located at index 61 of the data set for it’s second value and so on and so forth."
      ]
    },
    {
      "cell_type": "code",
      "metadata": {
        "id": "oSv9_OST-FRX",
        "colab_type": "code",
        "colab": {}
      },
      "source": [
        "#Create the scaled training data set \n",
        "train_data = scaled_data[0:training_data_len  , : ]\n",
        "#Split the data into x_train and y_train data sets\n",
        "x_train=[]\n",
        "y_train = []\n",
        "for i in range(60,len(train_data)):\n",
        "    x_train.append(train_data[i-60:i,0])\n",
        "    y_train.append(train_data[i,0])"
      ],
      "execution_count": 7,
      "outputs": []
    },
    {
      "cell_type": "markdown",
      "metadata": {
        "id": "Buj1TJLW-cSG",
        "colab_type": "text"
      },
      "source": [
        "Now convert the independent train data set ‘x_train’ and dependent train data set ‘y_train’ to numpy arrays so they can be used for training the LSTM model."
      ]
    },
    {
      "cell_type": "code",
      "metadata": {
        "id": "gMsc3lrH-ZJt",
        "colab_type": "code",
        "colab": {}
      },
      "source": [
        "#Convert x_train and y_train to numpy arrays\n",
        "x_train, y_train = np.array(x_train), np.array(y_train)"
      ],
      "execution_count": 8,
      "outputs": []
    },
    {
      "cell_type": "markdown",
      "metadata": {
        "id": "yOK8_Shp-nY3",
        "colab_type": "text"
      },
      "source": [
        "Reshape the data to be 3-dimensional in the form [number of samples, number of time steps, and number of features]. The LSTM model is expecting a 3-dimensional data set."
      ]
    },
    {
      "cell_type": "code",
      "metadata": {
        "id": "SFiJ6uin-kUk",
        "colab_type": "code",
        "colab": {}
      },
      "source": [
        "#Reshape the data into the shape accepted by the LSTM\n",
        "x_train = np.reshape(x_train, (x_train.shape[0],x_train.shape[1],1))"
      ],
      "execution_count": 9,
      "outputs": []
    },
    {
      "cell_type": "markdown",
      "metadata": {
        "id": "aHvzTJvM-sgP",
        "colab_type": "text"
      },
      "source": [
        "Build the LSTM model to have two LSTM layers with 50 neurons and two Dense layers, one with 25 neurons and the other with 1 neuron."
      ]
    },
    {
      "cell_type": "code",
      "metadata": {
        "id": "PWk033X2-rOv",
        "colab_type": "code",
        "colab": {}
      },
      "source": [
        "#Build the LSTM network model\n",
        "model = Sequential()\n",
        "model.add(LSTM(units=50, return_sequences=True,input_shape=(x_train.shape[1],1)))\n",
        "model.add(LSTM(units=50, return_sequences=False))\n",
        "model.add(Dense(units=25))\n",
        "model.add(Dense(units=1))"
      ],
      "execution_count": 10,
      "outputs": []
    },
    {
      "cell_type": "markdown",
      "metadata": {
        "id": "xvlzq8oX-5J3",
        "colab_type": "text"
      },
      "source": [
        "Compile the model using the mean squared error (MSE) loss function and the adam optimizer."
      ]
    },
    {
      "cell_type": "code",
      "metadata": {
        "id": "BOCSutPp-vyN",
        "colab_type": "code",
        "colab": {}
      },
      "source": [
        "#Compile the model\n",
        "model.compile(optimizer='adam', loss='mean_squared_error')"
      ],
      "execution_count": 11,
      "outputs": []
    },
    {
      "cell_type": "markdown",
      "metadata": {
        "id": "bSu6EN-8_BeH",
        "colab_type": "text"
      },
      "source": [
        "Train the model using the training data sets. Note, fit is another name for train. Batch size is the total number of training examples present in a single batch, and epoch is the number of iterations when an entire data set is passed forward and backward through the neural network."
      ]
    },
    {
      "cell_type": "code",
      "metadata": {
        "id": "xWtkC7x4--D0",
        "colab_type": "code",
        "colab": {
          "base_uri": "https://localhost:8080/",
          "height": 1000
        },
        "outputId": "a4e4dcf9-c761-40e1-db74-05ca07aa3b88"
      },
      "source": [
        "#Train the model\n",
        "model.fit(x_train, y_train, batch_size=1, epochs=20)   \n",
        "# epochs=20~50 정도의 범위가 적합한데, KAKAO 처럼 최근에 급등한 경우에는 epochs=20이 좀더 잘맞음\n",
        "# 급등주의 경우에는 epoch를 높게 설정하는 것보다는 20이내로 설정하는 것이 더 잘 맞는 경향"
      ],
      "execution_count": 12,
      "outputs": [
        {
          "output_type": "stream",
          "text": [
            "Epoch 1/50\n",
            "2017/2017 [==============================] - 93s 46ms/step - loss: 5.8476e-04\n",
            "Epoch 2/50\n",
            "2017/2017 [==============================] - 83s 41ms/step - loss: 2.2732e-04\n",
            "Epoch 3/50\n",
            "2017/2017 [==============================] - 80s 40ms/step - loss: 1.8543e-04\n",
            "Epoch 4/50\n",
            "2017/2017 [==============================] - 80s 40ms/step - loss: 1.7478e-04\n",
            "Epoch 5/50\n",
            "2017/2017 [==============================] - 79s 39ms/step - loss: 1.5143e-04\n",
            "Epoch 6/50\n",
            "2017/2017 [==============================] - 80s 40ms/step - loss: 1.5151e-04\n",
            "Epoch 7/50\n",
            "2017/2017 [==============================] - 80s 39ms/step - loss: 1.5667e-04\n",
            "Epoch 8/50\n",
            "2017/2017 [==============================] - 81s 40ms/step - loss: 1.4753e-04\n",
            "Epoch 9/50\n",
            "2017/2017 [==============================] - 80s 40ms/step - loss: 1.4590e-04\n",
            "Epoch 10/50\n",
            "2017/2017 [==============================] - 87s 43ms/step - loss: 1.4129e-04\n",
            "Epoch 11/50\n",
            "2017/2017 [==============================] - 81s 40ms/step - loss: 1.3724e-04\n",
            "Epoch 12/50\n",
            "2017/2017 [==============================] - 82s 40ms/step - loss: 1.4411e-04\n",
            "Epoch 13/50\n",
            "2017/2017 [==============================] - 80s 40ms/step - loss: 1.2776e-04\n",
            "Epoch 14/50\n",
            "2017/2017 [==============================] - 80s 40ms/step - loss: 1.2935e-04\n",
            "Epoch 15/50\n",
            "2017/2017 [==============================] - 81s 40ms/step - loss: 1.3066e-04\n",
            "Epoch 16/50\n",
            "2017/2017 [==============================] - 79s 39ms/step - loss: 1.2575e-04\n",
            "Epoch 17/50\n",
            "2017/2017 [==============================] - 81s 40ms/step - loss: 1.2392e-04\n",
            "Epoch 18/50\n",
            "2017/2017 [==============================] - 82s 41ms/step - loss: 1.2021e-04\n",
            "Epoch 19/50\n",
            "2017/2017 [==============================] - 89s 44ms/step - loss: 1.3000e-04\n",
            "Epoch 20/50\n",
            "2017/2017 [==============================] - 86s 43ms/step - loss: 1.2318e-04\n",
            "Epoch 21/50\n",
            "2017/2017 [==============================] - 84s 42ms/step - loss: 1.1671e-04\n",
            "Epoch 22/50\n",
            "2017/2017 [==============================] - 81s 40ms/step - loss: 1.2465e-04\n",
            "Epoch 23/50\n",
            "2017/2017 [==============================] - 80s 40ms/step - loss: 1.2158e-04\n",
            "Epoch 24/50\n",
            "2017/2017 [==============================] - 80s 40ms/step - loss: 1.1888e-04\n",
            "Epoch 25/50\n",
            "2017/2017 [==============================] - 79s 39ms/step - loss: 1.1589e-04\n",
            "Epoch 26/50\n",
            "2017/2017 [==============================] - 83s 41ms/step - loss: 1.1833e-04\n",
            "Epoch 27/50\n",
            "2017/2017 [==============================] - 80s 40ms/step - loss: 1.1669e-04\n",
            "Epoch 28/50\n",
            "2017/2017 [==============================] - 84s 42ms/step - loss: 1.1605e-04\n",
            "Epoch 29/50\n",
            "2017/2017 [==============================] - 79s 39ms/step - loss: 1.1472e-04\n",
            "Epoch 30/50\n",
            "2017/2017 [==============================] - 80s 39ms/step - loss: 1.2153e-04\n",
            "Epoch 31/50\n",
            "2017/2017 [==============================] - 80s 40ms/step - loss: 1.1570e-04\n",
            "Epoch 32/50\n",
            "2017/2017 [==============================] - 86s 43ms/step - loss: 1.1584e-04\n",
            "Epoch 33/50\n",
            "2017/2017 [==============================] - 86s 43ms/step - loss: 1.1497e-04\n",
            "Epoch 34/50\n",
            "2017/2017 [==============================] - 92s 46ms/step - loss: 1.1369e-04\n",
            "Epoch 35/50\n",
            "2017/2017 [==============================] - 86s 43ms/step - loss: 1.1414e-04\n",
            "Epoch 36/50\n",
            "2017/2017 [==============================] - 86s 43ms/step - loss: 1.1445e-04\n",
            "Epoch 37/50\n",
            "2017/2017 [==============================] - 88s 44ms/step - loss: 1.1585e-04\n",
            "Epoch 38/50\n",
            "2017/2017 [==============================] - 89s 44ms/step - loss: 1.1437e-04\n",
            "Epoch 39/50\n",
            "2017/2017 [==============================] - 86s 43ms/step - loss: 1.1098e-04\n",
            "Epoch 40/50\n",
            "2017/2017 [==============================] - 87s 43ms/step - loss: 1.1423e-04\n",
            "Epoch 41/50\n",
            "2017/2017 [==============================] - 94s 47ms/step - loss: 1.1542e-04\n",
            "Epoch 42/50\n",
            "2017/2017 [==============================] - 87s 43ms/step - loss: 1.1391e-04\n",
            "Epoch 43/50\n",
            "2017/2017 [==============================] - 83s 41ms/step - loss: 1.1204e-04\n",
            "Epoch 44/50\n",
            "2017/2017 [==============================] - 81s 40ms/step - loss: 1.1144e-04\n",
            "Epoch 45/50\n",
            "2017/2017 [==============================] - 82s 41ms/step - loss: 1.1587e-04\n",
            "Epoch 46/50\n",
            "2017/2017 [==============================] - 80s 40ms/step - loss: 1.0922e-04\n",
            "Epoch 47/50\n",
            "2017/2017 [==============================] - 80s 40ms/step - loss: 1.1028e-04\n",
            "Epoch 48/50\n",
            "2017/2017 [==============================] - 79s 39ms/step - loss: 1.1213e-04\n",
            "Epoch 49/50\n",
            "2017/2017 [==============================] - 81s 40ms/step - loss: 1.1202e-04\n",
            "Epoch 50/50\n",
            "2017/2017 [==============================] - 81s 40ms/step - loss: 1.0942e-04\n"
          ],
          "name": "stdout"
        },
        {
          "output_type": "execute_result",
          "data": {
            "text/plain": [
              "<keras.callbacks.callbacks.History at 0x7f13967198d0>"
            ]
          },
          "metadata": {
            "tags": []
          },
          "execution_count": 12
        }
      ]
    },
    {
      "cell_type": "markdown",
      "metadata": {
        "id": "IlgDoZHc_LLU",
        "colab_type": "text"
      },
      "source": [
        "Create a test data set."
      ]
    },
    {
      "cell_type": "code",
      "metadata": {
        "id": "UpNwKQCd_F98",
        "colab_type": "code",
        "colab": {}
      },
      "source": [
        "#Test data set\n",
        "test_data = scaled_data[training_data_len - 60: , : ]\n",
        "#Create the x_test and y_test data sets\n",
        "x_test = []\n",
        "y_test =  dataset[training_data_len : , : ] #Get all of the rows from index 1603 to the rest and all of the columns (in this case it's only column 'Close'), so 2003 - 1603 = 400 rows of data\n",
        "for i in range(60,len(test_data)):\n",
        "    x_test.append(test_data[i-60:i,0])"
      ],
      "execution_count": 13,
      "outputs": []
    },
    {
      "cell_type": "markdown",
      "metadata": {
        "id": "ymGSZ1xV_i4W",
        "colab_type": "text"
      },
      "source": [
        "Then convert the independent test data set ‘x_test’ to a numpy array so it can be used for testing the LSTM model."
      ]
    },
    {
      "cell_type": "code",
      "metadata": {
        "id": "1A669IK0_fkK",
        "colab_type": "code",
        "colab": {}
      },
      "source": [
        "#Convert x_test to a numpy array \n",
        "x_test = np.array(x_test)"
      ],
      "execution_count": 14,
      "outputs": []
    },
    {
      "cell_type": "markdown",
      "metadata": {
        "id": "USht7XNE_qwb",
        "colab_type": "text"
      },
      "source": [
        "Reshape the data to be 3-dimensional in the form [number of samples, number of time steps, and number of features]. This needs to be done, because the LSTM model is expecting a 3-dimensional data set."
      ]
    },
    {
      "cell_type": "code",
      "metadata": {
        "id": "imbRe7AN_mfj",
        "colab_type": "code",
        "colab": {}
      },
      "source": [
        "#Reshape the data into the shape accepted by the LSTM\n",
        "x_test = np.reshape(x_test, (x_test.shape[0],x_test.shape[1],1))"
      ],
      "execution_count": 15,
      "outputs": []
    },
    {
      "cell_type": "markdown",
      "metadata": {
        "id": "G8HVDBgn_y4s",
        "colab_type": "text"
      },
      "source": [
        "Now get the predicted values from the model using the test data."
      ]
    },
    {
      "cell_type": "code",
      "metadata": {
        "id": "BDuHSbuA_u9e",
        "colab_type": "code",
        "colab": {}
      },
      "source": [
        "#Getting the models predicted price values\n",
        "predictions = model.predict(x_test) \n",
        "predictions = scaler.inverse_transform(predictions)#Undo scaling"
      ],
      "execution_count": 16,
      "outputs": []
    },
    {
      "cell_type": "markdown",
      "metadata": {
        "id": "QvrlUsrO_7Au",
        "colab_type": "text"
      },
      "source": [
        "Get the root mean squared error (RMSE), which is a good measure of how accurate the model is. A value of 0 would indicate that the models predicted values match the actual values from the test data set perfectly.\n",
        "The lower the value the better the model performed. But usually it is best to use other metrics as well to truly get an idea of how well the model performed."
      ]
    },
    {
      "cell_type": "code",
      "metadata": {
        "id": "oRt4O9Ye_3cq",
        "colab_type": "code",
        "colab": {
          "base_uri": "https://localhost:8080/",
          "height": 34
        },
        "outputId": "90332c9d-0ca9-4c48-b2ac-2c41e0d54ef5"
      },
      "source": [
        "#Calculate/Get the value of RMSE\n",
        "rmse=np.sqrt(np.mean(((predictions- y_test)**2)))\n",
        "rmse"
      ],
      "execution_count": 17,
      "outputs": [
        {
          "output_type": "execute_result",
          "data": {
            "text/plain": [
              "13143.631538848625"
            ]
          },
          "metadata": {
            "tags": []
          },
          "execution_count": 17
        }
      ]
    },
    {
      "cell_type": "markdown",
      "metadata": {
        "id": "VTEErggSAEB4",
        "colab_type": "text"
      },
      "source": [
        "Let’s plot and visualize the data."
      ]
    },
    {
      "cell_type": "code",
      "metadata": {
        "id": "WNjscl4T_-8q",
        "colab_type": "code",
        "colab": {
          "base_uri": "https://localhost:8080/",
          "height": 624
        },
        "outputId": "fc5d1b66-156a-4f87-e16a-765d8c90427d"
      },
      "source": [
        "#Plot/Create the data for the graph\n",
        "train = data[:training_data_len]\n",
        "valid = data[training_data_len:]\n",
        "valid['Predictions'] = predictions\n",
        "#Visualize the data\n",
        "plt.figure(figsize=(16,8))\n",
        "plt.title('KAKAO')\n",
        "plt.xlabel('Date', fontsize=18)\n",
        "plt.ylabel('Close Price USD ($)', fontsize=18)\n",
        "plt.plot(train['Close'])\n",
        "plt.plot(valid[['Close', 'Predictions']])\n",
        "plt.legend(['Train', 'Val', 'Predictions'], loc='lower right')\n",
        "plt.show()"
      ],
      "execution_count": 18,
      "outputs": [
        {
          "output_type": "stream",
          "text": [
            "/usr/local/lib/python3.6/dist-packages/ipykernel_launcher.py:4: SettingWithCopyWarning: \n",
            "A value is trying to be set on a copy of a slice from a DataFrame.\n",
            "Try using .loc[row_indexer,col_indexer] = value instead\n",
            "\n",
            "See the caveats in the documentation: https://pandas.pydata.org/pandas-docs/stable/user_guide/indexing.html#returning-a-view-versus-a-copy\n",
            "  after removing the cwd from sys.path.\n"
          ],
          "name": "stderr"
        },
        {
          "output_type": "display_data",
          "data": {
            "image/png": "[encoded data removed]",
            "text/plain": [
              "<Figure size 1152x576 with 1 Axes>"
            ]
          },
          "metadata": {
            "tags": [],
            "needs_background": "light"
          }
        }
      ]
    },
    {
      "cell_type": "code",
      "metadata": {
        "id": "lWtcEPEBSnZ7",
        "colab_type": "code",
        "colab": {}
      },
      "source": [
        ""
      ],
      "execution_count": null,
      "outputs": []
    }
  ]
}